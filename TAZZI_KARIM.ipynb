{
 "cells": [
  {
   "cell_type": "markdown",
   "metadata": {},
   "source": [
    "### Nom : TAZZI karim"
   ]
  },
  {
   "cell_type": "code",
   "execution_count": 25,
   "metadata": {},
   "outputs": [],
   "source": [
    "import pandas as pd\n",
    "from urllib.request import urlopen  \n",
    "import os.path as osp\n",
    "import os\n",
    "import logging\n",
    "import zipfile\n",
    "from glob import glob\n",
    "import numpy as np\n",
    "import matplotlib.pyplot as plt\n",
    "import seaborn as sns\n",
    "import warnings\n",
    "warnings.filterwarnings(\"ignore\")\n",
    "logging.getLogger().setLevel('INFO')"
   ]
  },
  {
   "cell_type": "markdown",
   "metadata": {},
   "source": [
    "## Helpers"
   ]
  },
  {
   "cell_type": "code",
   "execution_count": 26,
   "metadata": {},
   "outputs": [],
   "source": [
    "def download_file(url_str, path):\n",
    "    url = urlopen(url_str)\n",
    "    output = open(path, 'wb')       \n",
    "    output.write(url.read())\n",
    "    output.close()  \n",
    "    \n",
    "def extract_file(archive_path, target_dir):\n",
    "    zip_file = zipfile.ZipFile(archive_path, 'r')\n",
    "    zip_file.extractall(target_dir)\n",
    "    zip_file.close()"
   ]
  },
  {
   "cell_type": "markdown",
   "metadata": {},
   "source": [
    "## Download the dataset"
   ]
  },
  {
   "cell_type": "code",
   "execution_count": 27,
   "metadata": {},
   "outputs": [
    {
     "name": "stderr",
     "output_type": "stream",
     "text": [
      "INFO:root:downloading & extracting file http://tennis-data.co.uk/2000/2000.zip\n",
      "INFO:root:downloading & extracting file http://tennis-data.co.uk/2001/2001.zip\n",
      "INFO:root:downloading & extracting file http://tennis-data.co.uk/2002/2002.zip\n",
      "INFO:root:downloading & extracting file http://tennis-data.co.uk/2003/2003.zip\n",
      "INFO:root:downloading & extracting file http://tennis-data.co.uk/2004/2004.zip\n",
      "INFO:root:downloading & extracting file http://tennis-data.co.uk/2005/2005.zip\n",
      "INFO:root:downloading & extracting file http://tennis-data.co.uk/2006/2006.zip\n",
      "INFO:root:downloading & extracting file http://tennis-data.co.uk/2007/2007.zip\n",
      "INFO:root:downloading & extracting file http://tennis-data.co.uk/2008/2008.zip\n",
      "INFO:root:downloading & extracting file http://tennis-data.co.uk/2009/2009.zip\n",
      "INFO:root:downloading & extracting file http://tennis-data.co.uk/2010/2010.zip\n",
      "INFO:root:downloading & extracting file http://tennis-data.co.uk/2011/2011.zip\n",
      "INFO:root:downloading & extracting file http://tennis-data.co.uk/2012/2012.zip\n",
      "INFO:root:downloading & extracting file http://tennis-data.co.uk/2013/2013.zip\n",
      "INFO:root:downloading & extracting file http://tennis-data.co.uk/2014/2014.zip\n",
      "INFO:root:downloading & extracting file http://tennis-data.co.uk/2015/2015.zip\n",
      "INFO:root:downloading & extracting file http://tennis-data.co.uk/2016/2016.zip\n",
      "INFO:root:downloading & extracting file http://tennis-data.co.uk/2017/2017.zip\n",
      "INFO:root:downloading & extracting file http://tennis-data.co.uk/2018/2018.zip\n",
      "INFO:root:downloading & extracting file http://tennis-data.co.uk/2007w/2007.zip\n",
      "INFO:root:downloading & extracting file http://tennis-data.co.uk/2008w/2008.zip\n",
      "INFO:root:downloading & extracting file http://tennis-data.co.uk/2009w/2009.zip\n",
      "INFO:root:downloading & extracting file http://tennis-data.co.uk/2010w/2010.zip\n",
      "INFO:root:downloading & extracting file http://tennis-data.co.uk/2011w/2011.zip\n",
      "INFO:root:downloading & extracting file http://tennis-data.co.uk/2012w/2012.zip\n",
      "INFO:root:downloading & extracting file http://tennis-data.co.uk/2013w/2013.zip\n",
      "INFO:root:downloading & extracting file http://tennis-data.co.uk/2014w/2014.zip\n",
      "INFO:root:downloading & extracting file http://tennis-data.co.uk/2015w/2015.zip\n",
      "INFO:root:downloading & extracting file http://tennis-data.co.uk/2016w/2016.zip\n",
      "INFO:root:downloading & extracting file http://tennis-data.co.uk/2017w/2017.zip\n",
      "INFO:root:downloading & extracting file http://tennis-data.co.uk/2018w/2018.zip\n",
      "INFO:root:52298 matches ATP in df_atp\n",
      "INFO:root:29581 matches WTA in df_wta\n"
     ]
    }
   ],
   "source": [
    "BASE_URL = 'http://tennis-data.co.uk'\n",
    "DATA_DIR = \"tennis_data\"\n",
    "ATP_DIR = './{}/ATP'.format(DATA_DIR)\n",
    "WTA_DIR = './{}/WTA'.format(DATA_DIR)\n",
    "\n",
    "ATP_URLS = [BASE_URL + \"/%i/%i.zip\" % (i,i) for i in range(2000,2019)]\n",
    "WTA_URLS = [BASE_URL + \"/%iw/%i.zip\" % (i,i) for i in range(2007,2019)]\n",
    "\n",
    "os.makedirs(osp.join(ATP_DIR, 'archives'), exist_ok=True)\n",
    "os.makedirs(osp.join(WTA_DIR, 'archives'), exist_ok=True)\n",
    "\n",
    "for files, directory in ((ATP_URLS, ATP_DIR), (WTA_URLS, WTA_DIR)):\n",
    "    for dl_path in files:\n",
    "        logging.info(\"downloading & extracting file %s\", dl_path)\n",
    "        archive_path = osp.join(directory, 'archives', osp.basename(dl_path))\n",
    "        download_file(dl_path, archive_path)\n",
    "        extract_file(archive_path, directory)\n",
    "    \n",
    "ATP_FILES = sorted(glob(\"%s/*.xls*\" % ATP_DIR))\n",
    "WTA_FILES = sorted(glob(\"%s/*.xls*\" % WTA_DIR))\n",
    "\n",
    "df_atp = pd.concat([pd.read_excel(f) for f in ATP_FILES], ignore_index=True)\n",
    "df_wta = pd.concat([pd.read_excel(f) for f in WTA_FILES], ignore_index=True)\n",
    "\n",
    "logging.info(\"%i matches ATP in df_atp\", df_atp.shape[0])\n",
    "logging.info(\"%i matches WTA in df_wta\", df_wta.shape[0])"
   ]
  },
  {
   "cell_type": "markdown",
   "metadata": {},
   "source": [
    "## Your work"
   ]
  },
  {
   "cell_type": "code",
   "execution_count": 28,
   "metadata": {},
   "outputs": [
    {
     "data": {
      "text/html": [
       "<div>\n",
       "<style scoped>\n",
       "    .dataframe tbody tr th:only-of-type {\n",
       "        vertical-align: middle;\n",
       "    }\n",
       "\n",
       "    .dataframe tbody tr th {\n",
       "        vertical-align: top;\n",
       "    }\n",
       "\n",
       "    .dataframe thead th {\n",
       "        text-align: right;\n",
       "    }\n",
       "</style>\n",
       "<table border=\"1\" class=\"dataframe\">\n",
       "  <thead>\n",
       "    <tr style=\"text-align: right;\">\n",
       "      <th></th>\n",
       "      <th>ATP</th>\n",
       "      <th>Location</th>\n",
       "      <th>Tournament</th>\n",
       "      <th>Date</th>\n",
       "      <th>Series</th>\n",
       "      <th>Court</th>\n",
       "      <th>Surface</th>\n",
       "      <th>Round</th>\n",
       "      <th>Best of</th>\n",
       "      <th>Winner</th>\n",
       "      <th>...</th>\n",
       "      <th>UBW</th>\n",
       "      <th>UBL</th>\n",
       "      <th>LBW</th>\n",
       "      <th>LBL</th>\n",
       "      <th>SJW</th>\n",
       "      <th>SJL</th>\n",
       "      <th>MaxW</th>\n",
       "      <th>MaxL</th>\n",
       "      <th>AvgW</th>\n",
       "      <th>AvgL</th>\n",
       "    </tr>\n",
       "  </thead>\n",
       "  <tbody>\n",
       "    <tr>\n",
       "      <th>0</th>\n",
       "      <td>1</td>\n",
       "      <td>Adelaide</td>\n",
       "      <td>Australian Hardcourt Championships</td>\n",
       "      <td>2000-01-03</td>\n",
       "      <td>International</td>\n",
       "      <td>Outdoor</td>\n",
       "      <td>Hard</td>\n",
       "      <td>1st Round</td>\n",
       "      <td>3</td>\n",
       "      <td>Dosedel S.</td>\n",
       "      <td>...</td>\n",
       "      <td>NaN</td>\n",
       "      <td>NaN</td>\n",
       "      <td>NaN</td>\n",
       "      <td>NaN</td>\n",
       "      <td>NaN</td>\n",
       "      <td>NaN</td>\n",
       "      <td>NaN</td>\n",
       "      <td>NaN</td>\n",
       "      <td>NaN</td>\n",
       "      <td>NaN</td>\n",
       "    </tr>\n",
       "    <tr>\n",
       "      <th>1</th>\n",
       "      <td>1</td>\n",
       "      <td>Adelaide</td>\n",
       "      <td>Australian Hardcourt Championships</td>\n",
       "      <td>2000-01-03</td>\n",
       "      <td>International</td>\n",
       "      <td>Outdoor</td>\n",
       "      <td>Hard</td>\n",
       "      <td>1st Round</td>\n",
       "      <td>3</td>\n",
       "      <td>Enqvist T.</td>\n",
       "      <td>...</td>\n",
       "      <td>NaN</td>\n",
       "      <td>NaN</td>\n",
       "      <td>NaN</td>\n",
       "      <td>NaN</td>\n",
       "      <td>NaN</td>\n",
       "      <td>NaN</td>\n",
       "      <td>NaN</td>\n",
       "      <td>NaN</td>\n",
       "      <td>NaN</td>\n",
       "      <td>NaN</td>\n",
       "    </tr>\n",
       "    <tr>\n",
       "      <th>2</th>\n",
       "      <td>1</td>\n",
       "      <td>Adelaide</td>\n",
       "      <td>Australian Hardcourt Championships</td>\n",
       "      <td>2000-01-03</td>\n",
       "      <td>International</td>\n",
       "      <td>Outdoor</td>\n",
       "      <td>Hard</td>\n",
       "      <td>1st Round</td>\n",
       "      <td>3</td>\n",
       "      <td>Escude N.</td>\n",
       "      <td>...</td>\n",
       "      <td>NaN</td>\n",
       "      <td>NaN</td>\n",
       "      <td>NaN</td>\n",
       "      <td>NaN</td>\n",
       "      <td>NaN</td>\n",
       "      <td>NaN</td>\n",
       "      <td>NaN</td>\n",
       "      <td>NaN</td>\n",
       "      <td>NaN</td>\n",
       "      <td>NaN</td>\n",
       "    </tr>\n",
       "    <tr>\n",
       "      <th>3</th>\n",
       "      <td>1</td>\n",
       "      <td>Adelaide</td>\n",
       "      <td>Australian Hardcourt Championships</td>\n",
       "      <td>2000-01-03</td>\n",
       "      <td>International</td>\n",
       "      <td>Outdoor</td>\n",
       "      <td>Hard</td>\n",
       "      <td>1st Round</td>\n",
       "      <td>3</td>\n",
       "      <td>Federer R.</td>\n",
       "      <td>...</td>\n",
       "      <td>NaN</td>\n",
       "      <td>NaN</td>\n",
       "      <td>NaN</td>\n",
       "      <td>NaN</td>\n",
       "      <td>NaN</td>\n",
       "      <td>NaN</td>\n",
       "      <td>NaN</td>\n",
       "      <td>NaN</td>\n",
       "      <td>NaN</td>\n",
       "      <td>NaN</td>\n",
       "    </tr>\n",
       "    <tr>\n",
       "      <th>4</th>\n",
       "      <td>1</td>\n",
       "      <td>Adelaide</td>\n",
       "      <td>Australian Hardcourt Championships</td>\n",
       "      <td>2000-01-03</td>\n",
       "      <td>International</td>\n",
       "      <td>Outdoor</td>\n",
       "      <td>Hard</td>\n",
       "      <td>1st Round</td>\n",
       "      <td>3</td>\n",
       "      <td>Fromberg R.</td>\n",
       "      <td>...</td>\n",
       "      <td>NaN</td>\n",
       "      <td>NaN</td>\n",
       "      <td>NaN</td>\n",
       "      <td>NaN</td>\n",
       "      <td>NaN</td>\n",
       "      <td>NaN</td>\n",
       "      <td>NaN</td>\n",
       "      <td>NaN</td>\n",
       "      <td>NaN</td>\n",
       "      <td>NaN</td>\n",
       "    </tr>\n",
       "  </tbody>\n",
       "</table>\n",
       "<p>5 rows × 54 columns</p>\n",
       "</div>"
      ],
      "text/plain": [
       "   ATP  Location                          Tournament       Date  \\\n",
       "0    1  Adelaide  Australian Hardcourt Championships 2000-01-03   \n",
       "1    1  Adelaide  Australian Hardcourt Championships 2000-01-03   \n",
       "2    1  Adelaide  Australian Hardcourt Championships 2000-01-03   \n",
       "3    1  Adelaide  Australian Hardcourt Championships 2000-01-03   \n",
       "4    1  Adelaide  Australian Hardcourt Championships 2000-01-03   \n",
       "\n",
       "          Series    Court Surface      Round  Best of       Winner  ... UBW  \\\n",
       "0  International  Outdoor    Hard  1st Round        3   Dosedel S.  ... NaN   \n",
       "1  International  Outdoor    Hard  1st Round        3   Enqvist T.  ... NaN   \n",
       "2  International  Outdoor    Hard  1st Round        3    Escude N.  ... NaN   \n",
       "3  International  Outdoor    Hard  1st Round        3   Federer R.  ... NaN   \n",
       "4  International  Outdoor    Hard  1st Round        3  Fromberg R.  ... NaN   \n",
       "\n",
       "  UBL LBW  LBL  SJW SJL MaxW MaxL AvgW  AvgL  \n",
       "0 NaN NaN  NaN  NaN NaN  NaN  NaN  NaN   NaN  \n",
       "1 NaN NaN  NaN  NaN NaN  NaN  NaN  NaN   NaN  \n",
       "2 NaN NaN  NaN  NaN NaN  NaN  NaN  NaN   NaN  \n",
       "3 NaN NaN  NaN  NaN NaN  NaN  NaN  NaN   NaN  \n",
       "4 NaN NaN  NaN  NaN NaN  NaN  NaN  NaN   NaN  \n",
       "\n",
       "[5 rows x 54 columns]"
      ]
     },
     "execution_count": 28,
     "metadata": {},
     "output_type": "execute_result"
    }
   ],
   "source": [
    "df_atp.head()"
   ]
  },
  {
   "cell_type": "code",
   "execution_count": 29,
   "metadata": {},
   "outputs": [
    {
     "name": "stdout",
     "output_type": "stream",
     "text": [
      "<class 'pandas.core.frame.DataFrame'>\n",
      "RangeIndex: 52298 entries, 0 to 52297\n",
      "Data columns (total 54 columns):\n",
      " #   Column      Non-Null Count  Dtype         \n",
      "---  ------      --------------  -----         \n",
      " 0   ATP         52298 non-null  int64         \n",
      " 1   Location    52298 non-null  object        \n",
      " 2   Tournament  52298 non-null  object        \n",
      " 3   Date        52298 non-null  datetime64[ns]\n",
      " 4   Series      52298 non-null  object        \n",
      " 5   Court       52298 non-null  object        \n",
      " 6   Surface     52298 non-null  object        \n",
      " 7   Round       52298 non-null  object        \n",
      " 8   Best of     52298 non-null  int64         \n",
      " 9   Winner      52298 non-null  object        \n",
      " 10  Loser       52298 non-null  object        \n",
      " 11  WRank       52283 non-null  object        \n",
      " 12  LRank       52220 non-null  object        \n",
      " 13  W1          52035 non-null  float64       \n",
      " 14  L1          52037 non-null  float64       \n",
      " 15  W2          51526 non-null  object        \n",
      " 16  L2          51527 non-null  object        \n",
      " 17  W3          24169 non-null  object        \n",
      " 18  L3          24168 non-null  object        \n",
      " 19  W4          4731 non-null   float64       \n",
      " 20  L4          4731 non-null   float64       \n",
      " 21  W5          1791 non-null   float64       \n",
      " 22  L5          1791 non-null   float64       \n",
      " 23  Wsets       52074 non-null  float64       \n",
      " 24  Lsets       52073 non-null  object        \n",
      " 25  Comment     52298 non-null  object        \n",
      " 26  CBW         17506 non-null  float64       \n",
      " 27  CBL         17506 non-null  float64       \n",
      " 28  GBW         5055 non-null   float64       \n",
      " 29  GBL         5055 non-null   float64       \n",
      " 30  IWW         13358 non-null  float64       \n",
      " 31  IWL         13358 non-null  float64       \n",
      " 32  SBW         5424 non-null   float64       \n",
      " 33  SBL         5424 non-null   float64       \n",
      " 34  B365W       43643 non-null  float64       \n",
      " 35  B365L       43666 non-null  float64       \n",
      " 36  B&WW        1097 non-null   float64       \n",
      " 37  B&WL        1097 non-null   float64       \n",
      " 38  EXW         39411 non-null  object        \n",
      " 39  EXL         39416 non-null  float64       \n",
      " 40  PSW         37339 non-null  float64       \n",
      " 41  PSL         37339 non-null  float64       \n",
      " 42  WPts        36094 non-null  float64       \n",
      " 43  LPts        36035 non-null  float64       \n",
      " 44  UBW         10671 non-null  float64       \n",
      " 45  UBL         10671 non-null  float64       \n",
      " 46  LBW         28131 non-null  float64       \n",
      " 47  LBL         28142 non-null  float64       \n",
      " 48  SJW         15572 non-null  float64       \n",
      " 49  SJL         15579 non-null  float64       \n",
      " 50  MaxW        22745 non-null  float64       \n",
      " 51  MaxL        22745 non-null  float64       \n",
      " 52  AvgW        22745 non-null  float64       \n",
      " 53  AvgL        22745 non-null  float64       \n",
      "dtypes: datetime64[ns](1), float64(34), int64(2), object(17)\n",
      "memory usage: 21.5+ MB\n"
     ]
    }
   ],
   "source": [
    "#info of the dataframe\n",
    "df_atp.info()"
   ]
  },
  {
   "cell_type": "markdown",
   "metadata": {},
   "source": [
    "We observe the existence of some numeric variables of type float but indicated as object, so in order to answer the questions, we will change the type of these numeric variables to the correct type (from object to Float).\n",
    "\n",
    "these variables are : 'LSets' ,'W2' ,'L2' ,'W3' ,'L3','WRank','LRank'."
   ]
  },
  {
   "cell_type": "markdown",
   "metadata": {},
   "source": [
    "### the variable LSets"
   ]
  },
  {
   "cell_type": "code",
   "execution_count": 30,
   "metadata": {},
   "outputs": [
    {
     "data": {
      "text/plain": [
       "array([0, 1, 2, nan, '`1'], dtype=object)"
      ]
     },
     "execution_count": 30,
     "metadata": {},
     "output_type": "execute_result"
    }
   ],
   "source": [
    "# the variable Lsets contain numeric values but is indicated as object\n",
    "df_atp[\"Lsets\"].unique()"
   ]
  },
  {
   "cell_type": "code",
   "execution_count": 31,
   "metadata": {},
   "outputs": [],
   "source": [
    "# we replace the caracter \"`1\" with \"1\" ,and we change the type of Lsets to the rights type.\n",
    "df_atp[\"Lsets\"]=df_atp[\"Lsets\"].replace(\"`1\",\"1\")\n",
    "df_atp[\"Lsets\"]=df_atp[\"Lsets\"].astype(float)"
   ]
  },
  {
   "cell_type": "markdown",
   "metadata": {},
   "source": [
    "### the variables 'W2',  'L2'  , 'W3'  , 'L3', 'WRank' , 'LRank'"
   ]
  },
  {
   "cell_type": "code",
   "execution_count": 32,
   "metadata": {},
   "outputs": [
    {
     "data": {
      "text/plain": [
       "array([6.0, 7.0, 5.0, 2.0, 4.0, nan, 0.0, 3.0, 1.0, ' '], dtype=object)"
      ]
     },
     "execution_count": 32,
     "metadata": {},
     "output_type": "execute_result"
    }
   ],
   "source": [
    "# the variable W2 contain numeric values but is indicated as object\n",
    "df_atp[\"W2\"].unique()"
   ]
  },
  {
   "cell_type": "code",
   "execution_count": 33,
   "metadata": {},
   "outputs": [],
   "source": [
    "# we replace the caracter \" \" with nan ,and we change the type of Lsets to the rights type.\n",
    "df_atp[\"W2\"]=df_atp[\"W2\"].replace(\" \",np.nan)\n",
    "df_atp[\"W2\"]=df_atp[\"W2\"].astype(float)"
   ]
  },
  {
   "cell_type": "code",
   "execution_count": 34,
   "metadata": {},
   "outputs": [
    {
     "data": {
      "text/plain": [
       "array([2.0, 3.0, 5.0, 4.0, 7.0, 6.0, 1.0, 0.0, nan, ' '], dtype=object)"
      ]
     },
     "execution_count": 34,
     "metadata": {},
     "output_type": "execute_result"
    }
   ],
   "source": [
    "df_atp[\"L2\"].unique()"
   ]
  },
  {
   "cell_type": "code",
   "execution_count": 35,
   "metadata": {},
   "outputs": [],
   "source": [
    "df_atp[\"L2\"]=df_atp[\"L2\"].replace(\" \",np.nan)\n",
    "df_atp[\"L2\"]=df_atp[\"L2\"].astype(float)"
   ]
  },
  {
   "cell_type": "code",
   "execution_count": 36,
   "metadata": {},
   "outputs": [
    {
     "data": {
      "text/plain": [
       "array([nan, 6.0, 7.0, 3.0, 1.0, 4.0, 2.0, 5.0, 0.0, ' '], dtype=object)"
      ]
     },
     "execution_count": 36,
     "metadata": {},
     "output_type": "execute_result"
    }
   ],
   "source": [
    "df_atp[\"W3\"].unique()"
   ]
  },
  {
   "cell_type": "code",
   "execution_count": 37,
   "metadata": {},
   "outputs": [],
   "source": [
    "df_atp[\"W3\"]=df_atp[\"W3\"].replace(\" \",np.nan)\n",
    "df_atp[\"W3\"]=df_atp[\"W3\"].astype(float)"
   ]
  },
  {
   "cell_type": "code",
   "execution_count": 38,
   "metadata": {},
   "outputs": [
    {
     "data": {
      "text/plain": [
       "array([nan, 3.0, 4.0, 1.0, 2.0, 6.0, 0.0, 5.0, 7.0, ' '], dtype=object)"
      ]
     },
     "execution_count": 38,
     "metadata": {},
     "output_type": "execute_result"
    }
   ],
   "source": [
    "df_atp[\"L3\"].unique()"
   ]
  },
  {
   "cell_type": "code",
   "execution_count": 39,
   "metadata": {},
   "outputs": [],
   "source": [
    "df_atp[\"L3\"]=df_atp[\"L3\"].replace(\" \",np.nan)\n",
    "df_atp[\"L3\"]=df_atp[\"L3\"].astype(float)"
   ]
  },
  {
   "cell_type": "code",
   "execution_count": 40,
   "metadata": {},
   "outputs": [],
   "source": [
    "df_atp[\"WRank\"]=df_atp[\"WRank\"].replace(\"NR\",np.nan)\n",
    "df_atp[\"WRank\"]=df_atp[\"WRank\"].astype(float)"
   ]
  },
  {
   "cell_type": "code",
   "execution_count": 41,
   "metadata": {},
   "outputs": [],
   "source": [
    "df_atp[\"LRank\"]=df_atp[\"LRank\"].replace(\"NR\",np.nan)\n",
    "df_atp[\"LRank\"]=df_atp[\"LRank\"].astype(float)"
   ]
  },
  {
   "cell_type": "markdown",
   "metadata": {},
   "source": [
    "## Questions"
   ]
  },
  {
   "cell_type": "markdown",
   "metadata": {},
   "source": [
    "### Q1. Who are the three ATP players with the most wins ?"
   ]
  },
  {
   "cell_type": "code",
   "execution_count": 42,
   "metadata": {},
   "outputs": [
    {
     "data": {
      "text/plain": [
       "Federer R.     1121\n",
       "Nadal R.        891\n",
       "Djokovic N.     802\n",
       "Name: Winner, dtype: int64"
      ]
     },
     "execution_count": 42,
     "metadata": {},
     "output_type": "execute_result"
    }
   ],
   "source": [
    "df_atp[\"Winner\"].value_counts().sort_values(ascending=False)[:3]"
   ]
  },
  {
   "cell_type": "markdown",
   "metadata": {},
   "source": [
    "### Q2. How many sets did the player “Federer R.” win in total?"
   ]
  },
  {
   "cell_type": "code",
   "execution_count": 43,
   "metadata": {},
   "outputs": [
    {
     "data": {
      "text/plain": [
       "2696.0"
      ]
     },
     "execution_count": 43,
     "metadata": {},
     "output_type": "execute_result"
    }
   ],
   "source": [
    "#we select the sets win by “Federer R.” whether he's the winner or the loser.\n",
    "df_atp[df_atp.Winner==\"Federer R.\"].Wsets.sum()+df_atp[df_atp.Loser==\"Federer R.\"].Lsets.sum()"
   ]
  },
  {
   "cell_type": "markdown",
   "metadata": {},
   "source": [
    "### Q3. How many sets did the player “Federer R.” win during the years 2016 and 2017? "
   ]
  },
  {
   "cell_type": "code",
   "execution_count": 44,
   "metadata": {},
   "outputs": [
    {
     "data": {
      "text/plain": [
       "182.0"
      ]
     },
     "execution_count": 44,
     "metadata": {},
     "output_type": "execute_result"
    }
   ],
   "source": [
    "#we select all the wining sets of  the player “Federer R.” during the years 2016 and 2017 whether he's the winner or the loser.\n",
    "df_atp[(df_atp[\"Date\"]>=\"2016/01/01\") & (df_atp[\"Date\"]<\"2018/01/01\") & (df_atp.Winner==\"Federer R.\")].Wsets.sum() + df_atp[(df_atp[\"Date\"]>=\"2016/01/01\") & (df_atp[\"Date\"]<\"2018/01/01\") & (df_atp.Loser==\"Federer R.\")].Lsets.sum()"
   ]
  },
  {
   "cell_type": "markdown",
   "metadata": {},
   "source": [
    "### Q4. For each match, what is the percentage of victories of the winner in the past ?"
   ]
  },
  {
   "cell_type": "code",
   "execution_count": 45,
   "metadata": {},
   "outputs": [
    {
     "data": {
      "text/plain": [
       "0        100.000000\n",
       "1        100.000000\n",
       "2         66.666667\n",
       "3        100.000000\n",
       "4         66.666667\n",
       "            ...    \n",
       "52293    100.000000\n",
       "52294    100.000000\n",
       "52295    100.000000\n",
       "52296    100.000000\n",
       "52297    100.000000\n",
       "Length: 52298, dtype: float64"
      ]
     },
     "execution_count": 45,
     "metadata": {},
     "output_type": "execute_result"
    }
   ],
   "source": [
    "#the percentage of victories of the winner in the past is expressed as : WSets/(WSests+LSets)\n",
    "(df_atp[\"Wsets\"]/(df_atp[\"Wsets\"]+df_atp[\"Lsets\"]))*100"
   ]
  },
  {
   "cell_type": "code",
   "execution_count": 46,
   "metadata": {},
   "outputs": [
    {
     "data": {
      "text/plain": [
       "array([100.        ,  66.66666667,  50.        ,  60.        ,\n",
       "        75.        ,          nan,   0.        ,  33.33333333])"
      ]
     },
     "execution_count": 46,
     "metadata": {},
     "output_type": "execute_result"
    }
   ],
   "source": [
    "# the possibile values of this persentage.\n",
    "((df_atp[\"Wsets\"]/(df_atp[\"Wsets\"]+df_atp[\"Lsets\"]))*100).unique()"
   ]
  },
  {
   "cell_type": "code",
   "execution_count": 47,
   "metadata": {},
   "outputs": [
    {
     "data": {
      "text/plain": [
       "count    51720.000000\n",
       "mean        87.538251\n",
       "std         16.457573\n",
       "min          0.000000\n",
       "25%         66.666667\n",
       "50%        100.000000\n",
       "75%        100.000000\n",
       "max        100.000000\n",
       "dtype: float64"
      ]
     },
     "execution_count": 47,
     "metadata": {},
     "output_type": "execute_result"
    }
   ],
   "source": [
    "# some statistics of this percentage.\n",
    "((df_atp[\"Wsets\"]/(df_atp[\"Wsets\"]+df_atp[\"Lsets\"]))*100).describe()"
   ]
  },
  {
   "cell_type": "markdown",
   "metadata": {},
   "source": [
    "### Data Preparation \n"
   ]
  },
  {
   "cell_type": "code",
   "execution_count": 48,
   "metadata": {},
   "outputs": [
    {
     "data": {
      "text/plain": [
       "(52298, 54)"
      ]
     },
     "execution_count": 48,
     "metadata": {},
     "output_type": "execute_result"
    }
   ],
   "source": [
    "#the dimensions of our dataset\n",
    "df_atp.shape"
   ]
  },
  {
   "cell_type": "code",
   "execution_count": 49,
   "metadata": {},
   "outputs": [
    {
     "data": {
      "text/plain": [
       "Index(['ATP', 'Location', 'Tournament', 'Date', 'Series', 'Court', 'Surface',\n",
       "       'Round', 'Best of', 'Winner', 'Loser', 'WRank', 'LRank', 'W1', 'L1',\n",
       "       'W2', 'L2', 'W3', 'L3', 'W4', 'L4', 'W5', 'L5', 'Wsets', 'Lsets',\n",
       "       'Comment', 'CBW', 'CBL', 'GBW', 'GBL', 'IWW', 'IWL', 'SBW', 'SBL',\n",
       "       'B365W', 'B365L', 'B&WW', 'B&WL', 'EXW', 'EXL', 'PSW', 'PSL', 'WPts',\n",
       "       'LPts', 'UBW', 'UBL', 'LBW', 'LBL', 'SJW', 'SJL', 'MaxW', 'MaxL',\n",
       "       'AvgW', 'AvgL'],\n",
       "      dtype='object')"
      ]
     },
     "execution_count": 49,
     "metadata": {},
     "output_type": "execute_result"
    }
   ],
   "source": [
    "# the variables of our dataset\n",
    "df_atp.columns"
   ]
  },
  {
   "cell_type": "markdown",
   "metadata": {},
   "source": [
    "#### A tennis match will be between 2 players so the main objective is to predict which player won the match"
   ]
  },
  {
   "cell_type": "code",
   "execution_count": 50,
   "metadata": {},
   "outputs": [],
   "source": [
    "# we will start by Removing the features that has no relevance to the proposed objective\n",
    "df_atp=df_atp.drop(columns=['W1', 'L1','W2', 'L2', 'W3', 'L3', 'W4', 'L4', 'W5', 'L5','CBW', 'CBL', 'GBW', 'GBL', 'IWW', 'IWL', 'SBW', 'SBL','B365W', 'B365L', 'B&WW', 'B&WL', 'EXW', 'EXL', 'PSW', 'PSL','UBW', 'UBL', 'LBW', 'LBL', 'SJW', 'SJL',])"
   ]
  },
  {
   "cell_type": "code",
   "execution_count": 51,
   "metadata": {},
   "outputs": [
    {
     "data": {
      "text/plain": [
       "Index(['ATP', 'Location', 'Tournament', 'Date', 'Series', 'Court', 'Surface',\n",
       "       'Round', 'Best of', 'Winner', 'Loser', 'WRank', 'LRank', 'Wsets',\n",
       "       'Lsets', 'Comment', 'WPts', 'LPts', 'MaxW', 'MaxL', 'AvgW', 'AvgL'],\n",
       "      dtype='object')"
      ]
     },
     "execution_count": 51,
     "metadata": {},
     "output_type": "execute_result"
    }
   ],
   "source": [
    " df_atp.columns"
   ]
  },
  {
   "cell_type": "code",
   "execution_count": 52,
   "metadata": {},
   "outputs": [
    {
     "data": {
      "text/html": [
       "<div>\n",
       "<style scoped>\n",
       "    .dataframe tbody tr th:only-of-type {\n",
       "        vertical-align: middle;\n",
       "    }\n",
       "\n",
       "    .dataframe tbody tr th {\n",
       "        vertical-align: top;\n",
       "    }\n",
       "\n",
       "    .dataframe thead th {\n",
       "        text-align: right;\n",
       "    }\n",
       "</style>\n",
       "<table border=\"1\" class=\"dataframe\">\n",
       "  <thead>\n",
       "    <tr style=\"text-align: right;\">\n",
       "      <th></th>\n",
       "      <th>ATP</th>\n",
       "      <th>Location</th>\n",
       "      <th>Tournament</th>\n",
       "      <th>Date</th>\n",
       "      <th>Series</th>\n",
       "      <th>Court</th>\n",
       "      <th>Surface</th>\n",
       "      <th>Round</th>\n",
       "      <th>Best of</th>\n",
       "      <th>Winner</th>\n",
       "      <th>...</th>\n",
       "      <th>LRank</th>\n",
       "      <th>Wsets</th>\n",
       "      <th>Lsets</th>\n",
       "      <th>Comment</th>\n",
       "      <th>WPts</th>\n",
       "      <th>LPts</th>\n",
       "      <th>MaxW</th>\n",
       "      <th>MaxL</th>\n",
       "      <th>AvgW</th>\n",
       "      <th>AvgL</th>\n",
       "    </tr>\n",
       "  </thead>\n",
       "  <tbody>\n",
       "    <tr>\n",
       "      <th>0</th>\n",
       "      <td>1</td>\n",
       "      <td>Adelaide</td>\n",
       "      <td>Australian Hardcourt Championships</td>\n",
       "      <td>2000-01-03</td>\n",
       "      <td>International</td>\n",
       "      <td>Outdoor</td>\n",
       "      <td>Hard</td>\n",
       "      <td>1st Round</td>\n",
       "      <td>3</td>\n",
       "      <td>Dosedel S.</td>\n",
       "      <td>...</td>\n",
       "      <td>77.0</td>\n",
       "      <td>2.0</td>\n",
       "      <td>0.0</td>\n",
       "      <td>Completed</td>\n",
       "      <td>NaN</td>\n",
       "      <td>NaN</td>\n",
       "      <td>NaN</td>\n",
       "      <td>NaN</td>\n",
       "      <td>NaN</td>\n",
       "      <td>NaN</td>\n",
       "    </tr>\n",
       "    <tr>\n",
       "      <th>1</th>\n",
       "      <td>1</td>\n",
       "      <td>Adelaide</td>\n",
       "      <td>Australian Hardcourt Championships</td>\n",
       "      <td>2000-01-03</td>\n",
       "      <td>International</td>\n",
       "      <td>Outdoor</td>\n",
       "      <td>Hard</td>\n",
       "      <td>1st Round</td>\n",
       "      <td>3</td>\n",
       "      <td>Enqvist T.</td>\n",
       "      <td>...</td>\n",
       "      <td>56.0</td>\n",
       "      <td>2.0</td>\n",
       "      <td>0.0</td>\n",
       "      <td>Completed</td>\n",
       "      <td>NaN</td>\n",
       "      <td>NaN</td>\n",
       "      <td>NaN</td>\n",
       "      <td>NaN</td>\n",
       "      <td>NaN</td>\n",
       "      <td>NaN</td>\n",
       "    </tr>\n",
       "    <tr>\n",
       "      <th>2</th>\n",
       "      <td>1</td>\n",
       "      <td>Adelaide</td>\n",
       "      <td>Australian Hardcourt Championships</td>\n",
       "      <td>2000-01-03</td>\n",
       "      <td>International</td>\n",
       "      <td>Outdoor</td>\n",
       "      <td>Hard</td>\n",
       "      <td>1st Round</td>\n",
       "      <td>3</td>\n",
       "      <td>Escude N.</td>\n",
       "      <td>...</td>\n",
       "      <td>655.0</td>\n",
       "      <td>2.0</td>\n",
       "      <td>1.0</td>\n",
       "      <td>Completed</td>\n",
       "      <td>NaN</td>\n",
       "      <td>NaN</td>\n",
       "      <td>NaN</td>\n",
       "      <td>NaN</td>\n",
       "      <td>NaN</td>\n",
       "      <td>NaN</td>\n",
       "    </tr>\n",
       "    <tr>\n",
       "      <th>3</th>\n",
       "      <td>1</td>\n",
       "      <td>Adelaide</td>\n",
       "      <td>Australian Hardcourt Championships</td>\n",
       "      <td>2000-01-03</td>\n",
       "      <td>International</td>\n",
       "      <td>Outdoor</td>\n",
       "      <td>Hard</td>\n",
       "      <td>1st Round</td>\n",
       "      <td>3</td>\n",
       "      <td>Federer R.</td>\n",
       "      <td>...</td>\n",
       "      <td>87.0</td>\n",
       "      <td>2.0</td>\n",
       "      <td>0.0</td>\n",
       "      <td>Completed</td>\n",
       "      <td>NaN</td>\n",
       "      <td>NaN</td>\n",
       "      <td>NaN</td>\n",
       "      <td>NaN</td>\n",
       "      <td>NaN</td>\n",
       "      <td>NaN</td>\n",
       "    </tr>\n",
       "    <tr>\n",
       "      <th>4</th>\n",
       "      <td>1</td>\n",
       "      <td>Adelaide</td>\n",
       "      <td>Australian Hardcourt Championships</td>\n",
       "      <td>2000-01-03</td>\n",
       "      <td>International</td>\n",
       "      <td>Outdoor</td>\n",
       "      <td>Hard</td>\n",
       "      <td>1st Round</td>\n",
       "      <td>3</td>\n",
       "      <td>Fromberg R.</td>\n",
       "      <td>...</td>\n",
       "      <td>198.0</td>\n",
       "      <td>2.0</td>\n",
       "      <td>1.0</td>\n",
       "      <td>Completed</td>\n",
       "      <td>NaN</td>\n",
       "      <td>NaN</td>\n",
       "      <td>NaN</td>\n",
       "      <td>NaN</td>\n",
       "      <td>NaN</td>\n",
       "      <td>NaN</td>\n",
       "    </tr>\n",
       "  </tbody>\n",
       "</table>\n",
       "<p>5 rows × 22 columns</p>\n",
       "</div>"
      ],
      "text/plain": [
       "   ATP  Location                          Tournament       Date  \\\n",
       "0    1  Adelaide  Australian Hardcourt Championships 2000-01-03   \n",
       "1    1  Adelaide  Australian Hardcourt Championships 2000-01-03   \n",
       "2    1  Adelaide  Australian Hardcourt Championships 2000-01-03   \n",
       "3    1  Adelaide  Australian Hardcourt Championships 2000-01-03   \n",
       "4    1  Adelaide  Australian Hardcourt Championships 2000-01-03   \n",
       "\n",
       "          Series    Court Surface      Round  Best of       Winner  ...  \\\n",
       "0  International  Outdoor    Hard  1st Round        3   Dosedel S.  ...   \n",
       "1  International  Outdoor    Hard  1st Round        3   Enqvist T.  ...   \n",
       "2  International  Outdoor    Hard  1st Round        3    Escude N.  ...   \n",
       "3  International  Outdoor    Hard  1st Round        3   Federer R.  ...   \n",
       "4  International  Outdoor    Hard  1st Round        3  Fromberg R.  ...   \n",
       "\n",
       "   LRank  Wsets  Lsets    Comment  WPts LPts  MaxW  MaxL  AvgW  AvgL  \n",
       "0   77.0    2.0    0.0  Completed   NaN  NaN   NaN   NaN   NaN   NaN  \n",
       "1   56.0    2.0    0.0  Completed   NaN  NaN   NaN   NaN   NaN   NaN  \n",
       "2  655.0    2.0    1.0  Completed   NaN  NaN   NaN   NaN   NaN   NaN  \n",
       "3   87.0    2.0    0.0  Completed   NaN  NaN   NaN   NaN   NaN   NaN  \n",
       "4  198.0    2.0    1.0  Completed   NaN  NaN   NaN   NaN   NaN   NaN  \n",
       "\n",
       "[5 rows x 22 columns]"
      ]
     },
     "execution_count": 52,
     "metadata": {},
     "output_type": "execute_result"
    }
   ],
   "source": [
    "df_atp.head()"
   ]
  },
  {
   "cell_type": "markdown",
   "metadata": {},
   "source": [
    "\n",
    "Seperate our dataSet into categorical data (contain only categorical variables) and numerical data (contain only numerical variables) in order to handle and prepare each one separately"
   ]
  },
  {
   "cell_type": "code",
   "execution_count": 53,
   "metadata": {},
   "outputs": [],
   "source": [
    "from sklearn.compose import make_column_selector as selector\n",
    "\n",
    "numerical_columns_selector = selector(dtype_exclude=object)\n",
    "categorical_columns_selector = selector(dtype_include=object)\n",
    "\n",
    "numerical_columns = numerical_columns_selector(df_atp)\n",
    "categorical_columns = categorical_columns_selector(df_atp)"
   ]
  },
  {
   "cell_type": "code",
   "execution_count": 54,
   "metadata": {},
   "outputs": [],
   "source": [
    "data_num=df_atp[numerical_columns]\n",
    "data_categ=df_atp[categorical_columns]"
   ]
  },
  {
   "cell_type": "markdown",
   "metadata": {},
   "source": [
    "### Handling the Numerical Data"
   ]
  },
  {
   "cell_type": "code",
   "execution_count": 55,
   "metadata": {},
   "outputs": [
    {
     "data": {
      "text/html": [
       "<div>\n",
       "<style scoped>\n",
       "    .dataframe tbody tr th:only-of-type {\n",
       "        vertical-align: middle;\n",
       "    }\n",
       "\n",
       "    .dataframe tbody tr th {\n",
       "        vertical-align: top;\n",
       "    }\n",
       "\n",
       "    .dataframe thead th {\n",
       "        text-align: right;\n",
       "    }\n",
       "</style>\n",
       "<table border=\"1\" class=\"dataframe\">\n",
       "  <thead>\n",
       "    <tr style=\"text-align: right;\">\n",
       "      <th></th>\n",
       "      <th>ATP</th>\n",
       "      <th>Date</th>\n",
       "      <th>Best of</th>\n",
       "      <th>WRank</th>\n",
       "      <th>LRank</th>\n",
       "      <th>Wsets</th>\n",
       "      <th>Lsets</th>\n",
       "      <th>WPts</th>\n",
       "      <th>LPts</th>\n",
       "      <th>MaxW</th>\n",
       "      <th>MaxL</th>\n",
       "      <th>AvgW</th>\n",
       "      <th>AvgL</th>\n",
       "    </tr>\n",
       "  </thead>\n",
       "  <tbody>\n",
       "    <tr>\n",
       "      <th>0</th>\n",
       "      <td>1</td>\n",
       "      <td>2000-01-03</td>\n",
       "      <td>3</td>\n",
       "      <td>63.0</td>\n",
       "      <td>77.0</td>\n",
       "      <td>2.0</td>\n",
       "      <td>0.0</td>\n",
       "      <td>NaN</td>\n",
       "      <td>NaN</td>\n",
       "      <td>NaN</td>\n",
       "      <td>NaN</td>\n",
       "      <td>NaN</td>\n",
       "      <td>NaN</td>\n",
       "    </tr>\n",
       "    <tr>\n",
       "      <th>1</th>\n",
       "      <td>1</td>\n",
       "      <td>2000-01-03</td>\n",
       "      <td>3</td>\n",
       "      <td>5.0</td>\n",
       "      <td>56.0</td>\n",
       "      <td>2.0</td>\n",
       "      <td>0.0</td>\n",
       "      <td>NaN</td>\n",
       "      <td>NaN</td>\n",
       "      <td>NaN</td>\n",
       "      <td>NaN</td>\n",
       "      <td>NaN</td>\n",
       "      <td>NaN</td>\n",
       "    </tr>\n",
       "    <tr>\n",
       "      <th>2</th>\n",
       "      <td>1</td>\n",
       "      <td>2000-01-03</td>\n",
       "      <td>3</td>\n",
       "      <td>40.0</td>\n",
       "      <td>655.0</td>\n",
       "      <td>2.0</td>\n",
       "      <td>1.0</td>\n",
       "      <td>NaN</td>\n",
       "      <td>NaN</td>\n",
       "      <td>NaN</td>\n",
       "      <td>NaN</td>\n",
       "      <td>NaN</td>\n",
       "      <td>NaN</td>\n",
       "    </tr>\n",
       "    <tr>\n",
       "      <th>3</th>\n",
       "      <td>1</td>\n",
       "      <td>2000-01-03</td>\n",
       "      <td>3</td>\n",
       "      <td>65.0</td>\n",
       "      <td>87.0</td>\n",
       "      <td>2.0</td>\n",
       "      <td>0.0</td>\n",
       "      <td>NaN</td>\n",
       "      <td>NaN</td>\n",
       "      <td>NaN</td>\n",
       "      <td>NaN</td>\n",
       "      <td>NaN</td>\n",
       "      <td>NaN</td>\n",
       "    </tr>\n",
       "    <tr>\n",
       "      <th>4</th>\n",
       "      <td>1</td>\n",
       "      <td>2000-01-03</td>\n",
       "      <td>3</td>\n",
       "      <td>81.0</td>\n",
       "      <td>198.0</td>\n",
       "      <td>2.0</td>\n",
       "      <td>1.0</td>\n",
       "      <td>NaN</td>\n",
       "      <td>NaN</td>\n",
       "      <td>NaN</td>\n",
       "      <td>NaN</td>\n",
       "      <td>NaN</td>\n",
       "      <td>NaN</td>\n",
       "    </tr>\n",
       "  </tbody>\n",
       "</table>\n",
       "</div>"
      ],
      "text/plain": [
       "   ATP       Date  Best of  WRank  LRank  Wsets  Lsets  WPts  LPts  MaxW  \\\n",
       "0    1 2000-01-03        3   63.0   77.0    2.0    0.0   NaN   NaN   NaN   \n",
       "1    1 2000-01-03        3    5.0   56.0    2.0    0.0   NaN   NaN   NaN   \n",
       "2    1 2000-01-03        3   40.0  655.0    2.0    1.0   NaN   NaN   NaN   \n",
       "3    1 2000-01-03        3   65.0   87.0    2.0    0.0   NaN   NaN   NaN   \n",
       "4    1 2000-01-03        3   81.0  198.0    2.0    1.0   NaN   NaN   NaN   \n",
       "\n",
       "   MaxL  AvgW  AvgL  \n",
       "0   NaN   NaN   NaN  \n",
       "1   NaN   NaN   NaN  \n",
       "2   NaN   NaN   NaN  \n",
       "3   NaN   NaN   NaN  \n",
       "4   NaN   NaN   NaN  "
      ]
     },
     "execution_count": 55,
     "metadata": {},
     "output_type": "execute_result"
    }
   ],
   "source": [
    "data_num.head()"
   ]
  },
  {
   "cell_type": "code",
   "execution_count": 56,
   "metadata": {},
   "outputs": [
    {
     "data": {
      "text/plain": [
       "ATP            0\n",
       "Date           0\n",
       "Best of        0\n",
       "WRank         16\n",
       "LRank        105\n",
       "Wsets        224\n",
       "Lsets        225\n",
       "WPts       16204\n",
       "LPts       16263\n",
       "MaxW       29553\n",
       "MaxL       29553\n",
       "AvgW       29553\n",
       "AvgL       29553\n",
       "dtype: int64"
      ]
     },
     "execution_count": 56,
     "metadata": {},
     "output_type": "execute_result"
    }
   ],
   "source": [
    "# the totale missing values of each variable.\n",
    "data_num.isnull().sum()"
   ]
  },
  {
   "cell_type": "code",
   "execution_count": 57,
   "metadata": {},
   "outputs": [
    {
     "data": {
      "text/plain": [
       "<AxesSubplot:>"
      ]
     },
     "execution_count": 57,
     "metadata": {},
     "output_type": "execute_result"
    },
    {
     "data": {
      "image/png": "[encoded data removed]",
      "text/plain": [
       "<Figure size 1800x720 with 3 Axes>"
      ]
     },
     "metadata": {
      "needs_background": "light"
     },
     "output_type": "display_data"
    }
   ],
   "source": [
    "#the missing values of each variable\n",
    "import missingno as msno\n",
    "msno.bar(data_num)"
   ]
  },
  {
   "cell_type": "code",
   "execution_count": 58,
   "metadata": {},
   "outputs": [],
   "source": [
    "# replacing the missing values of each varibale by the mean of the variable.\n",
    "data_num[\"WRank\"].replace(np.nan,data_num[\"WRank\"].mean(),inplace=True)\n",
    "data_num[\"LRank\"].replace(np.nan,data_num[\"LRank\"].mean(),inplace=True)\n",
    "data_num[\"Wsets\"].replace(np.nan,data_num[\"Wsets\"].mean(),inplace=True)\n",
    "data_num[\"Lsets\"].replace(np.nan,data_num[\"Lsets\"].mean(),inplace=True)\n",
    "data_num[\"WPts\"].replace(np.nan,data_num[\"WPts\"].mean(),inplace=True)\n",
    "data_num[\"LPts\"].replace(np.nan,data_num[\"LPts\"].mean(),inplace=True)\n",
    "data_num[\"MaxW\"].replace(np.nan,data_num[\"MaxW\"].mean(),inplace=True)\n",
    "data_num[\"MaxL\"].replace(np.nan,data_num[\"MaxL\"].mean(),inplace=True)\n",
    "data_num[\"AvgW\"].replace(np.nan,data_num[\"AvgW\"].mean(),inplace=True)\n",
    "data_num[\"AvgL\"].replace(np.nan,data_num[\"AvgL\"].mean(),inplace=True)"
   ]
  },
  {
   "cell_type": "code",
   "execution_count": 59,
   "metadata": {},
   "outputs": [
    {
     "data": {
      "text/plain": [
       "ATP        0\n",
       "Date       0\n",
       "Best of    0\n",
       "WRank      0\n",
       "LRank      0\n",
       "Wsets      0\n",
       "Lsets      0\n",
       "WPts       0\n",
       "LPts       0\n",
       "MaxW       0\n",
       "MaxL       0\n",
       "AvgW       0\n",
       "AvgL       0\n",
       "dtype: int64"
      ]
     },
     "execution_count": 59,
     "metadata": {},
     "output_type": "execute_result"
    }
   ],
   "source": [
    "#like we see there is no missing values anymore.\n",
    "data_num.isnull().sum()"
   ]
  },
  {
   "cell_type": "code",
   "execution_count": 60,
   "metadata": {},
   "outputs": [
    {
     "data": {
      "image/png": "[encoded data removed]",
      "text/plain": [
       "<Figure size 1296x1296 with 2 Axes>"
      ]
     },
     "metadata": {
      "needs_background": "light"
     },
     "output_type": "display_data"
    }
   ],
   "source": [
    "# the visualisation of matrice of correlation of our numerical data to determine the relationships between our variables\n",
    "f,ax = plt.subplots(figsize=(18, 18))\n",
    "sns.heatmap(data_num.corr(), annot=True, linewidths=.5, fmt= '.1f',ax=ax)\n",
    "plt.show()"
   ]
  },
  {
   "cell_type": "code",
   "execution_count": 61,
   "metadata": {},
   "outputs": [],
   "source": [
    "# the correlation between the variables AvgW and MaxW = 1.0 ,SO we will keep only one column between AvgW & MaxW.\n",
    "# lets delete the column MaxW from our numerical dataset\n",
    "data_num=data_num.drop(columns=['MaxW'])"
   ]
  },
  {
   "cell_type": "code",
   "execution_count": 62,
   "metadata": {},
   "outputs": [
    {
     "data": {
      "text/plain": [
       "array([[<AxesSubplot:title={'center':'ATP'}>,\n",
       "        <AxesSubplot:title={'center':'Date'}>,\n",
       "        <AxesSubplot:title={'center':'Best of'}>],\n",
       "       [<AxesSubplot:title={'center':'WRank'}>,\n",
       "        <AxesSubplot:title={'center':'LRank'}>,\n",
       "        <AxesSubplot:title={'center':'Wsets'}>],\n",
       "       [<AxesSubplot:title={'center':'Lsets'}>,\n",
       "        <AxesSubplot:title={'center':'WPts'}>,\n",
       "        <AxesSubplot:title={'center':'LPts'}>],\n",
       "       [<AxesSubplot:title={'center':'MaxL'}>,\n",
       "        <AxesSubplot:title={'center':'AvgW'}>,\n",
       "        <AxesSubplot:title={'center':'AvgL'}>]], dtype=object)"
      ]
     },
     "execution_count": 62,
     "metadata": {},
     "output_type": "execute_result"
    },
    {
     "data": {
      "image/png": "[encoded data removed]",
      "text/plain": [
       "<Figure size 864x864 with 12 Axes>"
      ]
     },
     "metadata": {
      "needs_background": "light"
     },
     "output_type": "display_data"
    }
   ],
   "source": [
    "# just a look about the distributions of our numerical variables\n",
    "from matplotlib.pyplot import rcParams\n",
    "rcParams['figure.figsize'] = 12, 12\n",
    "data_num.hist()"
   ]
  },
  {
   "cell_type": "markdown",
   "metadata": {},
   "source": [
    "### Handling the categorical data"
   ]
  },
  {
   "cell_type": "code",
   "execution_count": 63,
   "metadata": {},
   "outputs": [
    {
     "data": {
      "text/html": [
       "<div>\n",
       "<style scoped>\n",
       "    .dataframe tbody tr th:only-of-type {\n",
       "        vertical-align: middle;\n",
       "    }\n",
       "\n",
       "    .dataframe tbody tr th {\n",
       "        vertical-align: top;\n",
       "    }\n",
       "\n",
       "    .dataframe thead th {\n",
       "        text-align: right;\n",
       "    }\n",
       "</style>\n",
       "<table border=\"1\" class=\"dataframe\">\n",
       "  <thead>\n",
       "    <tr style=\"text-align: right;\">\n",
       "      <th></th>\n",
       "      <th>Location</th>\n",
       "      <th>Tournament</th>\n",
       "      <th>Series</th>\n",
       "      <th>Court</th>\n",
       "      <th>Surface</th>\n",
       "      <th>Round</th>\n",
       "      <th>Winner</th>\n",
       "      <th>Loser</th>\n",
       "      <th>Comment</th>\n",
       "    </tr>\n",
       "  </thead>\n",
       "  <tbody>\n",
       "    <tr>\n",
       "      <th>0</th>\n",
       "      <td>Adelaide</td>\n",
       "      <td>Australian Hardcourt Championships</td>\n",
       "      <td>International</td>\n",
       "      <td>Outdoor</td>\n",
       "      <td>Hard</td>\n",
       "      <td>1st Round</td>\n",
       "      <td>Dosedel S.</td>\n",
       "      <td>Ljubicic I.</td>\n",
       "      <td>Completed</td>\n",
       "    </tr>\n",
       "    <tr>\n",
       "      <th>1</th>\n",
       "      <td>Adelaide</td>\n",
       "      <td>Australian Hardcourt Championships</td>\n",
       "      <td>International</td>\n",
       "      <td>Outdoor</td>\n",
       "      <td>Hard</td>\n",
       "      <td>1st Round</td>\n",
       "      <td>Enqvist T.</td>\n",
       "      <td>Clement A.</td>\n",
       "      <td>Completed</td>\n",
       "    </tr>\n",
       "    <tr>\n",
       "      <th>2</th>\n",
       "      <td>Adelaide</td>\n",
       "      <td>Australian Hardcourt Championships</td>\n",
       "      <td>International</td>\n",
       "      <td>Outdoor</td>\n",
       "      <td>Hard</td>\n",
       "      <td>1st Round</td>\n",
       "      <td>Escude N.</td>\n",
       "      <td>Baccanello P.</td>\n",
       "      <td>Completed</td>\n",
       "    </tr>\n",
       "    <tr>\n",
       "      <th>3</th>\n",
       "      <td>Adelaide</td>\n",
       "      <td>Australian Hardcourt Championships</td>\n",
       "      <td>International</td>\n",
       "      <td>Outdoor</td>\n",
       "      <td>Hard</td>\n",
       "      <td>1st Round</td>\n",
       "      <td>Federer R.</td>\n",
       "      <td>Knippschild J.</td>\n",
       "      <td>Completed</td>\n",
       "    </tr>\n",
       "    <tr>\n",
       "      <th>4</th>\n",
       "      <td>Adelaide</td>\n",
       "      <td>Australian Hardcourt Championships</td>\n",
       "      <td>International</td>\n",
       "      <td>Outdoor</td>\n",
       "      <td>Hard</td>\n",
       "      <td>1st Round</td>\n",
       "      <td>Fromberg R.</td>\n",
       "      <td>Woodbridge T.</td>\n",
       "      <td>Completed</td>\n",
       "    </tr>\n",
       "  </tbody>\n",
       "</table>\n",
       "</div>"
      ],
      "text/plain": [
       "   Location                          Tournament         Series    Court  \\\n",
       "0  Adelaide  Australian Hardcourt Championships  International  Outdoor   \n",
       "1  Adelaide  Australian Hardcourt Championships  International  Outdoor   \n",
       "2  Adelaide  Australian Hardcourt Championships  International  Outdoor   \n",
       "3  Adelaide  Australian Hardcourt Championships  International  Outdoor   \n",
       "4  Adelaide  Australian Hardcourt Championships  International  Outdoor   \n",
       "\n",
       "  Surface      Round       Winner           Loser    Comment  \n",
       "0    Hard  1st Round   Dosedel S.     Ljubicic I.  Completed  \n",
       "1    Hard  1st Round   Enqvist T.      Clement A.  Completed  \n",
       "2    Hard  1st Round    Escude N.   Baccanello P.  Completed  \n",
       "3    Hard  1st Round   Federer R.  Knippschild J.  Completed  \n",
       "4    Hard  1st Round  Fromberg R.   Woodbridge T.  Completed  "
      ]
     },
     "execution_count": 63,
     "metadata": {},
     "output_type": "execute_result"
    }
   ],
   "source": [
    "data_categ.head()"
   ]
  },
  {
   "cell_type": "code",
   "execution_count": 64,
   "metadata": {},
   "outputs": [
    {
     "data": {
      "text/plain": [
       "Location      0\n",
       "Tournament    0\n",
       "Series        0\n",
       "Court         0\n",
       "Surface       0\n",
       "Round         0\n",
       "Winner        0\n",
       "Loser         0\n",
       "Comment       0\n",
       "dtype: int64"
      ]
     },
     "execution_count": 64,
     "metadata": {},
     "output_type": "execute_result"
    }
   ],
   "source": [
    "#No missing data\n",
    "data_categ.isnull().sum()"
   ]
  },
  {
   "cell_type": "code",
   "execution_count": 65,
   "metadata": {},
   "outputs": [
    {
     "data": {
      "text/plain": [
       "Index(['Location', 'Tournament', 'Series', 'Court', 'Surface', 'Round',\n",
       "       'Winner', 'Loser', 'Comment'],\n",
       "      dtype='object')"
      ]
     },
     "execution_count": 65,
     "metadata": {},
     "output_type": "execute_result"
    }
   ],
   "source": [
    "data_categ.columns"
   ]
  },
  {
   "cell_type": "markdown",
   "metadata": {},
   "source": [
    "### Feature Creation"
   ]
  },
  {
   "cell_type": "markdown",
   "metadata": {},
   "source": [
    "The target variable will be not the winner's name, if so the problem would be a multi-classification task with an output taking labels from the names of all players, So to avoid this we will add 2 variables named 'player1' and 'player2' contain the names of the winner and the loser randomly.and finally we will add the target variable take values from (0,1)\n",
    " 1 if the player1 is the winner and  0 if his the loser , thus we obtain a binary classification problem."
   ]
  },
  {
   "cell_type": "code",
   "execution_count": 66,
   "metadata": {},
   "outputs": [],
   "source": [
    "## adding the tow variables player1 and player2 contains the names of the winner and the loser of the match randomly\n",
    "## adding the binary variable target that take 1 if the player1 is the winner and 0 if his the loser\n",
    "data_categ[['Player1','Player2']] = data_categ[['Winner','Loser']]\n",
    "np.random.seed(2)\n",
    "target=np.random.randint(2,size=len(data_categ))\n",
    "data_categ['target']=target\n",
    "data_categ.loc[(target==0),'Player1'] , data_categ.loc[(target==0),'Player2'] = data_categ.loc[(target==0),'Player2'], data_categ.loc[(target==0),'Player1']"
   ]
  },
  {
   "cell_type": "code",
   "execution_count": 67,
   "metadata": {},
   "outputs": [
    {
     "data": {
      "text/html": [
       "<div>\n",
       "<style scoped>\n",
       "    .dataframe tbody tr th:only-of-type {\n",
       "        vertical-align: middle;\n",
       "    }\n",
       "\n",
       "    .dataframe tbody tr th {\n",
       "        vertical-align: top;\n",
       "    }\n",
       "\n",
       "    .dataframe thead th {\n",
       "        text-align: right;\n",
       "    }\n",
       "</style>\n",
       "<table border=\"1\" class=\"dataframe\">\n",
       "  <thead>\n",
       "    <tr style=\"text-align: right;\">\n",
       "      <th></th>\n",
       "      <th>Location</th>\n",
       "      <th>Tournament</th>\n",
       "      <th>Series</th>\n",
       "      <th>Court</th>\n",
       "      <th>Surface</th>\n",
       "      <th>Round</th>\n",
       "      <th>Winner</th>\n",
       "      <th>Loser</th>\n",
       "      <th>Comment</th>\n",
       "      <th>Player1</th>\n",
       "      <th>Player2</th>\n",
       "      <th>target</th>\n",
       "    </tr>\n",
       "  </thead>\n",
       "  <tbody>\n",
       "    <tr>\n",
       "      <th>0</th>\n",
       "      <td>Adelaide</td>\n",
       "      <td>Australian Hardcourt Championships</td>\n",
       "      <td>International</td>\n",
       "      <td>Outdoor</td>\n",
       "      <td>Hard</td>\n",
       "      <td>1st Round</td>\n",
       "      <td>Dosedel S.</td>\n",
       "      <td>Ljubicic I.</td>\n",
       "      <td>Completed</td>\n",
       "      <td>Ljubicic I.</td>\n",
       "      <td>Dosedel S.</td>\n",
       "      <td>0</td>\n",
       "    </tr>\n",
       "    <tr>\n",
       "      <th>1</th>\n",
       "      <td>Adelaide</td>\n",
       "      <td>Australian Hardcourt Championships</td>\n",
       "      <td>International</td>\n",
       "      <td>Outdoor</td>\n",
       "      <td>Hard</td>\n",
       "      <td>1st Round</td>\n",
       "      <td>Enqvist T.</td>\n",
       "      <td>Clement A.</td>\n",
       "      <td>Completed</td>\n",
       "      <td>Enqvist T.</td>\n",
       "      <td>Clement A.</td>\n",
       "      <td>1</td>\n",
       "    </tr>\n",
       "    <tr>\n",
       "      <th>2</th>\n",
       "      <td>Adelaide</td>\n",
       "      <td>Australian Hardcourt Championships</td>\n",
       "      <td>International</td>\n",
       "      <td>Outdoor</td>\n",
       "      <td>Hard</td>\n",
       "      <td>1st Round</td>\n",
       "      <td>Escude N.</td>\n",
       "      <td>Baccanello P.</td>\n",
       "      <td>Completed</td>\n",
       "      <td>Escude N.</td>\n",
       "      <td>Baccanello P.</td>\n",
       "      <td>1</td>\n",
       "    </tr>\n",
       "    <tr>\n",
       "      <th>3</th>\n",
       "      <td>Adelaide</td>\n",
       "      <td>Australian Hardcourt Championships</td>\n",
       "      <td>International</td>\n",
       "      <td>Outdoor</td>\n",
       "      <td>Hard</td>\n",
       "      <td>1st Round</td>\n",
       "      <td>Federer R.</td>\n",
       "      <td>Knippschild J.</td>\n",
       "      <td>Completed</td>\n",
       "      <td>Knippschild J.</td>\n",
       "      <td>Federer R.</td>\n",
       "      <td>0</td>\n",
       "    </tr>\n",
       "    <tr>\n",
       "      <th>4</th>\n",
       "      <td>Adelaide</td>\n",
       "      <td>Australian Hardcourt Championships</td>\n",
       "      <td>International</td>\n",
       "      <td>Outdoor</td>\n",
       "      <td>Hard</td>\n",
       "      <td>1st Round</td>\n",
       "      <td>Fromberg R.</td>\n",
       "      <td>Woodbridge T.</td>\n",
       "      <td>Completed</td>\n",
       "      <td>Woodbridge T.</td>\n",
       "      <td>Fromberg R.</td>\n",
       "      <td>0</td>\n",
       "    </tr>\n",
       "  </tbody>\n",
       "</table>\n",
       "</div>"
      ],
      "text/plain": [
       "   Location                          Tournament         Series    Court  \\\n",
       "0  Adelaide  Australian Hardcourt Championships  International  Outdoor   \n",
       "1  Adelaide  Australian Hardcourt Championships  International  Outdoor   \n",
       "2  Adelaide  Australian Hardcourt Championships  International  Outdoor   \n",
       "3  Adelaide  Australian Hardcourt Championships  International  Outdoor   \n",
       "4  Adelaide  Australian Hardcourt Championships  International  Outdoor   \n",
       "\n",
       "  Surface      Round       Winner           Loser    Comment         Player1  \\\n",
       "0    Hard  1st Round   Dosedel S.     Ljubicic I.  Completed     Ljubicic I.   \n",
       "1    Hard  1st Round   Enqvist T.      Clement A.  Completed      Enqvist T.   \n",
       "2    Hard  1st Round    Escude N.   Baccanello P.  Completed       Escude N.   \n",
       "3    Hard  1st Round   Federer R.  Knippschild J.  Completed  Knippschild J.   \n",
       "4    Hard  1st Round  Fromberg R.   Woodbridge T.  Completed   Woodbridge T.   \n",
       "\n",
       "         Player2  target  \n",
       "0     Dosedel S.       0  \n",
       "1     Clement A.       1  \n",
       "2  Baccanello P.       1  \n",
       "3     Federer R.       0  \n",
       "4    Fromberg R.       0  "
      ]
     },
     "execution_count": 67,
     "metadata": {},
     "output_type": "execute_result"
    }
   ],
   "source": [
    "data_categ.head()"
   ]
  },
  {
   "cell_type": "code",
   "execution_count": 68,
   "metadata": {},
   "outputs": [
    {
     "data": {
      "text/html": [
       "<div>\n",
       "<style scoped>\n",
       "    .dataframe tbody tr th:only-of-type {\n",
       "        vertical-align: middle;\n",
       "    }\n",
       "\n",
       "    .dataframe tbody tr th {\n",
       "        vertical-align: top;\n",
       "    }\n",
       "\n",
       "    .dataframe thead th {\n",
       "        text-align: right;\n",
       "    }\n",
       "</style>\n",
       "<table border=\"1\" class=\"dataframe\">\n",
       "  <thead>\n",
       "    <tr style=\"text-align: right;\">\n",
       "      <th></th>\n",
       "      <th>ATP</th>\n",
       "      <th>Date</th>\n",
       "      <th>Best of</th>\n",
       "      <th>WRank</th>\n",
       "      <th>LRank</th>\n",
       "      <th>Wsets</th>\n",
       "      <th>Lsets</th>\n",
       "      <th>WPts</th>\n",
       "      <th>LPts</th>\n",
       "      <th>MaxL</th>\n",
       "      <th>...</th>\n",
       "      <th>Series</th>\n",
       "      <th>Court</th>\n",
       "      <th>Surface</th>\n",
       "      <th>Round</th>\n",
       "      <th>Winner</th>\n",
       "      <th>Loser</th>\n",
       "      <th>Comment</th>\n",
       "      <th>Player1</th>\n",
       "      <th>Player2</th>\n",
       "      <th>target</th>\n",
       "    </tr>\n",
       "  </thead>\n",
       "  <tbody>\n",
       "    <tr>\n",
       "      <th>0</th>\n",
       "      <td>1</td>\n",
       "      <td>2000-01-03</td>\n",
       "      <td>3</td>\n",
       "      <td>63.0</td>\n",
       "      <td>77.0</td>\n",
       "      <td>2.0</td>\n",
       "      <td>0.0</td>\n",
       "      <td>1831.891644</td>\n",
       "      <td>1047.544665</td>\n",
       "      <td>8.326076</td>\n",
       "      <td>...</td>\n",
       "      <td>International</td>\n",
       "      <td>Outdoor</td>\n",
       "      <td>Hard</td>\n",
       "      <td>1st Round</td>\n",
       "      <td>Dosedel S.</td>\n",
       "      <td>Ljubicic I.</td>\n",
       "      <td>Completed</td>\n",
       "      <td>Ljubicic I.</td>\n",
       "      <td>Dosedel S.</td>\n",
       "      <td>0</td>\n",
       "    </tr>\n",
       "    <tr>\n",
       "      <th>1</th>\n",
       "      <td>1</td>\n",
       "      <td>2000-01-03</td>\n",
       "      <td>3</td>\n",
       "      <td>5.0</td>\n",
       "      <td>56.0</td>\n",
       "      <td>2.0</td>\n",
       "      <td>0.0</td>\n",
       "      <td>1831.891644</td>\n",
       "      <td>1047.544665</td>\n",
       "      <td>8.326076</td>\n",
       "      <td>...</td>\n",
       "      <td>International</td>\n",
       "      <td>Outdoor</td>\n",
       "      <td>Hard</td>\n",
       "      <td>1st Round</td>\n",
       "      <td>Enqvist T.</td>\n",
       "      <td>Clement A.</td>\n",
       "      <td>Completed</td>\n",
       "      <td>Enqvist T.</td>\n",
       "      <td>Clement A.</td>\n",
       "      <td>1</td>\n",
       "    </tr>\n",
       "    <tr>\n",
       "      <th>2</th>\n",
       "      <td>1</td>\n",
       "      <td>2000-01-03</td>\n",
       "      <td>3</td>\n",
       "      <td>40.0</td>\n",
       "      <td>655.0</td>\n",
       "      <td>2.0</td>\n",
       "      <td>1.0</td>\n",
       "      <td>1831.891644</td>\n",
       "      <td>1047.544665</td>\n",
       "      <td>8.326076</td>\n",
       "      <td>...</td>\n",
       "      <td>International</td>\n",
       "      <td>Outdoor</td>\n",
       "      <td>Hard</td>\n",
       "      <td>1st Round</td>\n",
       "      <td>Escude N.</td>\n",
       "      <td>Baccanello P.</td>\n",
       "      <td>Completed</td>\n",
       "      <td>Escude N.</td>\n",
       "      <td>Baccanello P.</td>\n",
       "      <td>1</td>\n",
       "    </tr>\n",
       "    <tr>\n",
       "      <th>3</th>\n",
       "      <td>1</td>\n",
       "      <td>2000-01-03</td>\n",
       "      <td>3</td>\n",
       "      <td>65.0</td>\n",
       "      <td>87.0</td>\n",
       "      <td>2.0</td>\n",
       "      <td>0.0</td>\n",
       "      <td>1831.891644</td>\n",
       "      <td>1047.544665</td>\n",
       "      <td>8.326076</td>\n",
       "      <td>...</td>\n",
       "      <td>International</td>\n",
       "      <td>Outdoor</td>\n",
       "      <td>Hard</td>\n",
       "      <td>1st Round</td>\n",
       "      <td>Federer R.</td>\n",
       "      <td>Knippschild J.</td>\n",
       "      <td>Completed</td>\n",
       "      <td>Knippschild J.</td>\n",
       "      <td>Federer R.</td>\n",
       "      <td>0</td>\n",
       "    </tr>\n",
       "    <tr>\n",
       "      <th>4</th>\n",
       "      <td>1</td>\n",
       "      <td>2000-01-03</td>\n",
       "      <td>3</td>\n",
       "      <td>81.0</td>\n",
       "      <td>198.0</td>\n",
       "      <td>2.0</td>\n",
       "      <td>1.0</td>\n",
       "      <td>1831.891644</td>\n",
       "      <td>1047.544665</td>\n",
       "      <td>8.326076</td>\n",
       "      <td>...</td>\n",
       "      <td>International</td>\n",
       "      <td>Outdoor</td>\n",
       "      <td>Hard</td>\n",
       "      <td>1st Round</td>\n",
       "      <td>Fromberg R.</td>\n",
       "      <td>Woodbridge T.</td>\n",
       "      <td>Completed</td>\n",
       "      <td>Woodbridge T.</td>\n",
       "      <td>Fromberg R.</td>\n",
       "      <td>0</td>\n",
       "    </tr>\n",
       "  </tbody>\n",
       "</table>\n",
       "<p>5 rows × 24 columns</p>\n",
       "</div>"
      ],
      "text/plain": [
       "   ATP       Date  Best of  WRank  LRank  Wsets  Lsets         WPts  \\\n",
       "0    1 2000-01-03        3   63.0   77.0    2.0    0.0  1831.891644   \n",
       "1    1 2000-01-03        3    5.0   56.0    2.0    0.0  1831.891644   \n",
       "2    1 2000-01-03        3   40.0  655.0    2.0    1.0  1831.891644   \n",
       "3    1 2000-01-03        3   65.0   87.0    2.0    0.0  1831.891644   \n",
       "4    1 2000-01-03        3   81.0  198.0    2.0    1.0  1831.891644   \n",
       "\n",
       "          LPts      MaxL  ...         Series    Court Surface      Round  \\\n",
       "0  1047.544665  8.326076  ...  International  Outdoor    Hard  1st Round   \n",
       "1  1047.544665  8.326076  ...  International  Outdoor    Hard  1st Round   \n",
       "2  1047.544665  8.326076  ...  International  Outdoor    Hard  1st Round   \n",
       "3  1047.544665  8.326076  ...  International  Outdoor    Hard  1st Round   \n",
       "4  1047.544665  8.326076  ...  International  Outdoor    Hard  1st Round   \n",
       "\n",
       "        Winner           Loser    Comment         Player1        Player2  \\\n",
       "0   Dosedel S.     Ljubicic I.  Completed     Ljubicic I.     Dosedel S.   \n",
       "1   Enqvist T.      Clement A.  Completed      Enqvist T.     Clement A.   \n",
       "2    Escude N.   Baccanello P.  Completed       Escude N.  Baccanello P.   \n",
       "3   Federer R.  Knippschild J.  Completed  Knippschild J.     Federer R.   \n",
       "4  Fromberg R.   Woodbridge T.  Completed   Woodbridge T.    Fromberg R.   \n",
       "\n",
       "  target  \n",
       "0      0  \n",
       "1      1  \n",
       "2      1  \n",
       "3      0  \n",
       "4      0  \n",
       "\n",
       "[5 rows x 24 columns]"
      ]
     },
     "execution_count": 68,
     "metadata": {},
     "output_type": "execute_result"
    }
   ],
   "source": [
    "## concatenate the numerical and the categorical data to poursuit the preparation\n",
    "import pandas as pd\n",
    "data=pd.concat([data_num,data_categ],axis=1)\n",
    "data.head()"
   ]
  },
  {
   "cell_type": "code",
   "execution_count": 86,
   "metadata": {},
   "outputs": [
    {
     "data": {
      "text/plain": [
       "Index(['ATP', 'Date', 'Best of', 'WRank', 'LRank', 'Wsets', 'Lsets', 'WPts',\n",
       "       'LPts', 'MaxL', 'AvgW', 'AvgL', 'Location', 'Tournament', 'Series',\n",
       "       'Court', 'Surface', 'Round', 'Winner', 'Loser', 'Comment', 'Player1',\n",
       "       'Player2', 'target', 'Year'],\n",
       "      dtype='object')"
      ]
     },
     "execution_count": 86,
     "metadata": {},
     "output_type": "execute_result"
    }
   ],
   "source": [
    "#add the variable year\n",
    "data['Year'] = data.Date.apply(lambda x : x.year)\n",
    "data.columns"
   ]
  },
  {
   "cell_type": "markdown",
   "metadata": {},
   "source": [
    "\n",
    "\n",
    "Now We will add a variable named 'deffWins' represent the count of all times when player1 beated player2 minus the count of all times when player2 beated player1 before the year of the match (the actual year included)"
   ]
  },
  {
   "cell_type": "code",
   "execution_count": 104,
   "metadata": {},
   "outputs": [],
   "source": [
    "# this function calculate the differnce between the count of all times when player1 beated player 2 ,and player2 beated player1 befor a year of the match\n",
    "def diff_wins_past(player1,player2,Year):\n",
    "    a=max(Year-1,2000)\n",
    "    df=data[(a<data[\"Year\"]) & (data[\"Year\"]<=Year)].copy()[['Winner','Loser','Year']]\n",
    "    a=df[(df[\"Winner\"]==player1) & (df[\"Loser\"]==player2)].value_counts().sum()\n",
    "    b=df[(df[\"Winner\"]==player2) & (df[\"Loser\"]==player1)].value_counts().sum()\n",
    "    return a-b"
   ]
  },
  {
   "cell_type": "code",
   "execution_count": 105,
   "metadata": {},
   "outputs": [],
   "source": [
    "#application of this function on our data\n",
    "data[\"diffWins\"]=data.apply(lambda x: diff_wins_past(x['Player1'], x['Player2'],x['Year']), axis=1)"
   ]
  },
  {
   "cell_type": "code",
   "execution_count": 107,
   "metadata": {},
   "outputs": [
    {
     "data": {
      "text/plain": [
       "array([ 0, -1,  1, -2,  2, -3,  3,  4, -4,  6, -6, -5,  5, -7,  7],\n",
       "      dtype=int64)"
      ]
     },
     "execution_count": 107,
     "metadata": {},
     "output_type": "execute_result"
    }
   ],
   "source": [
    "#the values taking by this varibale, like we see the maximum difference of wins is 7 (their are a player that won 7 time vs 0 time to the adversaire)\n",
    "data[\"diffWins\"].unique()"
   ]
  },
  {
   "cell_type": "code",
   "execution_count": 108,
   "metadata": {},
   "outputs": [],
   "source": [
    "#just to have only positive values\n",
    "data[\"diffWins\"]=abs(data[\"diffWins\"])"
   ]
  },
  {
   "cell_type": "code",
   "execution_count": 109,
   "metadata": {},
   "outputs": [
    {
     "data": {
      "text/html": [
       "<div>\n",
       "<style scoped>\n",
       "    .dataframe tbody tr th:only-of-type {\n",
       "        vertical-align: middle;\n",
       "    }\n",
       "\n",
       "    .dataframe tbody tr th {\n",
       "        vertical-align: top;\n",
       "    }\n",
       "\n",
       "    .dataframe thead th {\n",
       "        text-align: right;\n",
       "    }\n",
       "</style>\n",
       "<table border=\"1\" class=\"dataframe\">\n",
       "  <thead>\n",
       "    <tr style=\"text-align: right;\">\n",
       "      <th></th>\n",
       "      <th>ATP</th>\n",
       "      <th>Date</th>\n",
       "      <th>Best of</th>\n",
       "      <th>WRank</th>\n",
       "      <th>LRank</th>\n",
       "      <th>Wsets</th>\n",
       "      <th>Lsets</th>\n",
       "      <th>WPts</th>\n",
       "      <th>LPts</th>\n",
       "      <th>MaxL</th>\n",
       "      <th>...</th>\n",
       "      <th>Surface</th>\n",
       "      <th>Round</th>\n",
       "      <th>Winner</th>\n",
       "      <th>Loser</th>\n",
       "      <th>Comment</th>\n",
       "      <th>Player1</th>\n",
       "      <th>Player2</th>\n",
       "      <th>target</th>\n",
       "      <th>Year</th>\n",
       "      <th>diffWins</th>\n",
       "    </tr>\n",
       "  </thead>\n",
       "  <tbody>\n",
       "    <tr>\n",
       "      <th>0</th>\n",
       "      <td>1</td>\n",
       "      <td>2000-01-03</td>\n",
       "      <td>3</td>\n",
       "      <td>63.0</td>\n",
       "      <td>77.0</td>\n",
       "      <td>2.0</td>\n",
       "      <td>0.0</td>\n",
       "      <td>1831.891644</td>\n",
       "      <td>1047.544665</td>\n",
       "      <td>8.326076</td>\n",
       "      <td>...</td>\n",
       "      <td>Hard</td>\n",
       "      <td>1st Round</td>\n",
       "      <td>Dosedel S.</td>\n",
       "      <td>Ljubicic I.</td>\n",
       "      <td>Completed</td>\n",
       "      <td>Ljubicic I.</td>\n",
       "      <td>Dosedel S.</td>\n",
       "      <td>0</td>\n",
       "      <td>2000</td>\n",
       "      <td>0</td>\n",
       "    </tr>\n",
       "    <tr>\n",
       "      <th>1</th>\n",
       "      <td>1</td>\n",
       "      <td>2000-01-03</td>\n",
       "      <td>3</td>\n",
       "      <td>5.0</td>\n",
       "      <td>56.0</td>\n",
       "      <td>2.0</td>\n",
       "      <td>0.0</td>\n",
       "      <td>1831.891644</td>\n",
       "      <td>1047.544665</td>\n",
       "      <td>8.326076</td>\n",
       "      <td>...</td>\n",
       "      <td>Hard</td>\n",
       "      <td>1st Round</td>\n",
       "      <td>Enqvist T.</td>\n",
       "      <td>Clement A.</td>\n",
       "      <td>Completed</td>\n",
       "      <td>Enqvist T.</td>\n",
       "      <td>Clement A.</td>\n",
       "      <td>1</td>\n",
       "      <td>2000</td>\n",
       "      <td>0</td>\n",
       "    </tr>\n",
       "    <tr>\n",
       "      <th>2</th>\n",
       "      <td>1</td>\n",
       "      <td>2000-01-03</td>\n",
       "      <td>3</td>\n",
       "      <td>40.0</td>\n",
       "      <td>655.0</td>\n",
       "      <td>2.0</td>\n",
       "      <td>1.0</td>\n",
       "      <td>1831.891644</td>\n",
       "      <td>1047.544665</td>\n",
       "      <td>8.326076</td>\n",
       "      <td>...</td>\n",
       "      <td>Hard</td>\n",
       "      <td>1st Round</td>\n",
       "      <td>Escude N.</td>\n",
       "      <td>Baccanello P.</td>\n",
       "      <td>Completed</td>\n",
       "      <td>Escude N.</td>\n",
       "      <td>Baccanello P.</td>\n",
       "      <td>1</td>\n",
       "      <td>2000</td>\n",
       "      <td>0</td>\n",
       "    </tr>\n",
       "    <tr>\n",
       "      <th>3</th>\n",
       "      <td>1</td>\n",
       "      <td>2000-01-03</td>\n",
       "      <td>3</td>\n",
       "      <td>65.0</td>\n",
       "      <td>87.0</td>\n",
       "      <td>2.0</td>\n",
       "      <td>0.0</td>\n",
       "      <td>1831.891644</td>\n",
       "      <td>1047.544665</td>\n",
       "      <td>8.326076</td>\n",
       "      <td>...</td>\n",
       "      <td>Hard</td>\n",
       "      <td>1st Round</td>\n",
       "      <td>Federer R.</td>\n",
       "      <td>Knippschild J.</td>\n",
       "      <td>Completed</td>\n",
       "      <td>Knippschild J.</td>\n",
       "      <td>Federer R.</td>\n",
       "      <td>0</td>\n",
       "      <td>2000</td>\n",
       "      <td>0</td>\n",
       "    </tr>\n",
       "    <tr>\n",
       "      <th>4</th>\n",
       "      <td>1</td>\n",
       "      <td>2000-01-03</td>\n",
       "      <td>3</td>\n",
       "      <td>81.0</td>\n",
       "      <td>198.0</td>\n",
       "      <td>2.0</td>\n",
       "      <td>1.0</td>\n",
       "      <td>1831.891644</td>\n",
       "      <td>1047.544665</td>\n",
       "      <td>8.326076</td>\n",
       "      <td>...</td>\n",
       "      <td>Hard</td>\n",
       "      <td>1st Round</td>\n",
       "      <td>Fromberg R.</td>\n",
       "      <td>Woodbridge T.</td>\n",
       "      <td>Completed</td>\n",
       "      <td>Woodbridge T.</td>\n",
       "      <td>Fromberg R.</td>\n",
       "      <td>0</td>\n",
       "      <td>2000</td>\n",
       "      <td>0</td>\n",
       "    </tr>\n",
       "  </tbody>\n",
       "</table>\n",
       "<p>5 rows × 26 columns</p>\n",
       "</div>"
      ],
      "text/plain": [
       "   ATP       Date  Best of  WRank  LRank  Wsets  Lsets         WPts  \\\n",
       "0    1 2000-01-03        3   63.0   77.0    2.0    0.0  1831.891644   \n",
       "1    1 2000-01-03        3    5.0   56.0    2.0    0.0  1831.891644   \n",
       "2    1 2000-01-03        3   40.0  655.0    2.0    1.0  1831.891644   \n",
       "3    1 2000-01-03        3   65.0   87.0    2.0    0.0  1831.891644   \n",
       "4    1 2000-01-03        3   81.0  198.0    2.0    1.0  1831.891644   \n",
       "\n",
       "          LPts      MaxL  ...  Surface      Round       Winner  \\\n",
       "0  1047.544665  8.326076  ...     Hard  1st Round   Dosedel S.   \n",
       "1  1047.544665  8.326076  ...     Hard  1st Round   Enqvist T.   \n",
       "2  1047.544665  8.326076  ...     Hard  1st Round    Escude N.   \n",
       "3  1047.544665  8.326076  ...     Hard  1st Round   Federer R.   \n",
       "4  1047.544665  8.326076  ...     Hard  1st Round  Fromberg R.   \n",
       "\n",
       "            Loser    Comment         Player1        Player2 target  Year  \\\n",
       "0     Ljubicic I.  Completed     Ljubicic I.     Dosedel S.      0  2000   \n",
       "1      Clement A.  Completed      Enqvist T.     Clement A.      1  2000   \n",
       "2   Baccanello P.  Completed       Escude N.  Baccanello P.      1  2000   \n",
       "3  Knippschild J.  Completed  Knippschild J.     Federer R.      0  2000   \n",
       "4   Woodbridge T.  Completed   Woodbridge T.    Fromberg R.      0  2000   \n",
       "\n",
       "  diffWins  \n",
       "0        0  \n",
       "1        0  \n",
       "2        0  \n",
       "3        0  \n",
       "4        0  \n",
       "\n",
       "[5 rows x 26 columns]"
      ]
     },
     "execution_count": 109,
     "metadata": {},
     "output_type": "execute_result"
    }
   ],
   "source": [
    "#Like we can see our variable has been successfully added\n",
    "data.head()"
   ]
  },
  {
   "cell_type": "markdown",
   "metadata": {},
   "source": [
    "\n",
    "\n",
    "Now we will add tow variables named 'RankDiff' and 'PointDiff' represent respectivelly the Rank difference and the points differnce of our tow players"
   ]
  },
  {
   "cell_type": "code",
   "execution_count": 110,
   "metadata": {},
   "outputs": [],
   "source": [
    "def RankDiff(data):\n",
    "    target = \"RankDiff\"\n",
    "    data[target] = data['WRank']-data['LRank']\n",
    "    wonInd1 = (data['target'] == 0)             #The cases where p1=Loser and p2=Winner \n",
    "    data.loc[wonInd1,target] = data.loc[wonInd1,target].apply(lambda x : -x)\n",
    "    "
   ]
  },
  {
   "cell_type": "code",
   "execution_count": 111,
   "metadata": {},
   "outputs": [],
   "source": [
    "RankDiff(data)"
   ]
  },
  {
   "cell_type": "code",
   "execution_count": 112,
   "metadata": {},
   "outputs": [],
   "source": [
    "def PointDiff(data):\n",
    "    Wval, Lval = 'WPts', 'LPts'\n",
    "    target = \"PointsDiff\"\n",
    "    data[target] = data['WPts']-data['LPts']\n",
    "    wonInd1 = (data['target'] == 0)           #The cases where p1=Loser and p2=Winner \n",
    "    data.loc[wonInd1,target] = data.loc[wonInd1,target].apply(lambda x : -x)"
   ]
  },
  {
   "cell_type": "code",
   "execution_count": 113,
   "metadata": {},
   "outputs": [],
   "source": [
    "PointDiff(data)"
   ]
  },
  {
   "cell_type": "code",
   "execution_count": 114,
   "metadata": {},
   "outputs": [
    {
     "data": {
      "text/html": [
       "<div>\n",
       "<style scoped>\n",
       "    .dataframe tbody tr th:only-of-type {\n",
       "        vertical-align: middle;\n",
       "    }\n",
       "\n",
       "    .dataframe tbody tr th {\n",
       "        vertical-align: top;\n",
       "    }\n",
       "\n",
       "    .dataframe thead th {\n",
       "        text-align: right;\n",
       "    }\n",
       "</style>\n",
       "<table border=\"1\" class=\"dataframe\">\n",
       "  <thead>\n",
       "    <tr style=\"text-align: right;\">\n",
       "      <th></th>\n",
       "      <th>ATP</th>\n",
       "      <th>Date</th>\n",
       "      <th>Best of</th>\n",
       "      <th>WRank</th>\n",
       "      <th>LRank</th>\n",
       "      <th>Wsets</th>\n",
       "      <th>Lsets</th>\n",
       "      <th>WPts</th>\n",
       "      <th>LPts</th>\n",
       "      <th>MaxL</th>\n",
       "      <th>...</th>\n",
       "      <th>Winner</th>\n",
       "      <th>Loser</th>\n",
       "      <th>Comment</th>\n",
       "      <th>Player1</th>\n",
       "      <th>Player2</th>\n",
       "      <th>target</th>\n",
       "      <th>Year</th>\n",
       "      <th>diffWins</th>\n",
       "      <th>RankDiff</th>\n",
       "      <th>PointsDiff</th>\n",
       "    </tr>\n",
       "  </thead>\n",
       "  <tbody>\n",
       "    <tr>\n",
       "      <th>0</th>\n",
       "      <td>1</td>\n",
       "      <td>2000-01-03</td>\n",
       "      <td>3</td>\n",
       "      <td>63.0</td>\n",
       "      <td>77.0</td>\n",
       "      <td>2.0</td>\n",
       "      <td>0.0</td>\n",
       "      <td>1831.891644</td>\n",
       "      <td>1047.544665</td>\n",
       "      <td>8.326076</td>\n",
       "      <td>...</td>\n",
       "      <td>Dosedel S.</td>\n",
       "      <td>Ljubicic I.</td>\n",
       "      <td>Completed</td>\n",
       "      <td>Ljubicic I.</td>\n",
       "      <td>Dosedel S.</td>\n",
       "      <td>0</td>\n",
       "      <td>2000</td>\n",
       "      <td>0</td>\n",
       "      <td>14.0</td>\n",
       "      <td>-784.346979</td>\n",
       "    </tr>\n",
       "    <tr>\n",
       "      <th>1</th>\n",
       "      <td>1</td>\n",
       "      <td>2000-01-03</td>\n",
       "      <td>3</td>\n",
       "      <td>5.0</td>\n",
       "      <td>56.0</td>\n",
       "      <td>2.0</td>\n",
       "      <td>0.0</td>\n",
       "      <td>1831.891644</td>\n",
       "      <td>1047.544665</td>\n",
       "      <td>8.326076</td>\n",
       "      <td>...</td>\n",
       "      <td>Enqvist T.</td>\n",
       "      <td>Clement A.</td>\n",
       "      <td>Completed</td>\n",
       "      <td>Enqvist T.</td>\n",
       "      <td>Clement A.</td>\n",
       "      <td>1</td>\n",
       "      <td>2000</td>\n",
       "      <td>0</td>\n",
       "      <td>-51.0</td>\n",
       "      <td>784.346979</td>\n",
       "    </tr>\n",
       "    <tr>\n",
       "      <th>2</th>\n",
       "      <td>1</td>\n",
       "      <td>2000-01-03</td>\n",
       "      <td>3</td>\n",
       "      <td>40.0</td>\n",
       "      <td>655.0</td>\n",
       "      <td>2.0</td>\n",
       "      <td>1.0</td>\n",
       "      <td>1831.891644</td>\n",
       "      <td>1047.544665</td>\n",
       "      <td>8.326076</td>\n",
       "      <td>...</td>\n",
       "      <td>Escude N.</td>\n",
       "      <td>Baccanello P.</td>\n",
       "      <td>Completed</td>\n",
       "      <td>Escude N.</td>\n",
       "      <td>Baccanello P.</td>\n",
       "      <td>1</td>\n",
       "      <td>2000</td>\n",
       "      <td>0</td>\n",
       "      <td>-615.0</td>\n",
       "      <td>784.346979</td>\n",
       "    </tr>\n",
       "    <tr>\n",
       "      <th>3</th>\n",
       "      <td>1</td>\n",
       "      <td>2000-01-03</td>\n",
       "      <td>3</td>\n",
       "      <td>65.0</td>\n",
       "      <td>87.0</td>\n",
       "      <td>2.0</td>\n",
       "      <td>0.0</td>\n",
       "      <td>1831.891644</td>\n",
       "      <td>1047.544665</td>\n",
       "      <td>8.326076</td>\n",
       "      <td>...</td>\n",
       "      <td>Federer R.</td>\n",
       "      <td>Knippschild J.</td>\n",
       "      <td>Completed</td>\n",
       "      <td>Knippschild J.</td>\n",
       "      <td>Federer R.</td>\n",
       "      <td>0</td>\n",
       "      <td>2000</td>\n",
       "      <td>0</td>\n",
       "      <td>22.0</td>\n",
       "      <td>-784.346979</td>\n",
       "    </tr>\n",
       "    <tr>\n",
       "      <th>4</th>\n",
       "      <td>1</td>\n",
       "      <td>2000-01-03</td>\n",
       "      <td>3</td>\n",
       "      <td>81.0</td>\n",
       "      <td>198.0</td>\n",
       "      <td>2.0</td>\n",
       "      <td>1.0</td>\n",
       "      <td>1831.891644</td>\n",
       "      <td>1047.544665</td>\n",
       "      <td>8.326076</td>\n",
       "      <td>...</td>\n",
       "      <td>Fromberg R.</td>\n",
       "      <td>Woodbridge T.</td>\n",
       "      <td>Completed</td>\n",
       "      <td>Woodbridge T.</td>\n",
       "      <td>Fromberg R.</td>\n",
       "      <td>0</td>\n",
       "      <td>2000</td>\n",
       "      <td>0</td>\n",
       "      <td>117.0</td>\n",
       "      <td>-784.346979</td>\n",
       "    </tr>\n",
       "  </tbody>\n",
       "</table>\n",
       "<p>5 rows × 28 columns</p>\n",
       "</div>"
      ],
      "text/plain": [
       "   ATP       Date  Best of  WRank  LRank  Wsets  Lsets         WPts  \\\n",
       "0    1 2000-01-03        3   63.0   77.0    2.0    0.0  1831.891644   \n",
       "1    1 2000-01-03        3    5.0   56.0    2.0    0.0  1831.891644   \n",
       "2    1 2000-01-03        3   40.0  655.0    2.0    1.0  1831.891644   \n",
       "3    1 2000-01-03        3   65.0   87.0    2.0    0.0  1831.891644   \n",
       "4    1 2000-01-03        3   81.0  198.0    2.0    1.0  1831.891644   \n",
       "\n",
       "          LPts      MaxL  ...       Winner           Loser    Comment  \\\n",
       "0  1047.544665  8.326076  ...   Dosedel S.     Ljubicic I.  Completed   \n",
       "1  1047.544665  8.326076  ...   Enqvist T.      Clement A.  Completed   \n",
       "2  1047.544665  8.326076  ...    Escude N.   Baccanello P.  Completed   \n",
       "3  1047.544665  8.326076  ...   Federer R.  Knippschild J.  Completed   \n",
       "4  1047.544665  8.326076  ...  Fromberg R.   Woodbridge T.  Completed   \n",
       "\n",
       "          Player1        Player2 target  Year diffWins RankDiff  PointsDiff  \n",
       "0     Ljubicic I.     Dosedel S.      0  2000        0     14.0 -784.346979  \n",
       "1      Enqvist T.     Clement A.      1  2000        0    -51.0  784.346979  \n",
       "2       Escude N.  Baccanello P.      1  2000        0   -615.0  784.346979  \n",
       "3  Knippschild J.     Federer R.      0  2000        0     22.0 -784.346979  \n",
       "4   Woodbridge T.    Fromberg R.      0  2000        0    117.0 -784.346979  \n",
       "\n",
       "[5 rows x 28 columns]"
      ]
     },
     "execution_count": 114,
     "metadata": {},
     "output_type": "execute_result"
    }
   ],
   "source": [
    "data.head()"
   ]
  },
  {
   "cell_type": "markdown",
   "metadata": {},
   "source": [
    "### Data Modeling"
   ]
  },
  {
   "cell_type": "code",
   "execution_count": 115,
   "metadata": {},
   "outputs": [
    {
     "data": {
      "text/plain": [
       "Index(['ATP', 'Date', 'Best of', 'WRank', 'LRank', 'Wsets', 'Lsets', 'WPts',\n",
       "       'LPts', 'MaxL', 'AvgW', 'AvgL', 'Location', 'Tournament', 'Series',\n",
       "       'Court', 'Surface', 'Round', 'Winner', 'Loser', 'Comment', 'Player1',\n",
       "       'Player2', 'target', 'Year', 'diffWins', 'RankDiff', 'PointsDiff'],\n",
       "      dtype='object')"
      ]
     },
     "execution_count": 115,
     "metadata": {},
     "output_type": "execute_result"
    }
   ],
   "source": [
    "data.columns"
   ]
  },
  {
   "cell_type": "code",
   "execution_count": 130,
   "metadata": {},
   "outputs": [],
   "source": [
    "## we delete the columns that we're not going to use for the prediction\n",
    "df=data.drop(columns=['ATP','WRank','LRank','Wsets', 'Lsets', 'WPts','LPts', 'MaxL', 'AvgW', 'AvgL','Winner', 'Loser'])"
   ]
  },
  {
   "cell_type": "code",
   "execution_count": 117,
   "metadata": {},
   "outputs": [
    {
     "data": {
      "text/plain": [
       "Index(['Date', 'Best of', 'Location', 'Tournament', 'Series', 'Court',\n",
       "       'Surface', 'Round', 'Comment', 'Player1', 'Player2', 'target', 'Year',\n",
       "       'diffWins', 'RankDiff', 'PointsDiff'],\n",
       "      dtype='object')"
      ]
     },
     "execution_count": 117,
     "metadata": {},
     "output_type": "execute_result"
    }
   ],
   "source": [
    "#those are the variables that we're going to use to make predictions\n",
    "df.columns"
   ]
  },
  {
   "cell_type": "code",
   "execution_count": 131,
   "metadata": {},
   "outputs": [],
   "source": [
    "# to seperate the training set and the test set\n",
    "Test = lambda x: x.year == 2017\n",
    "Train = lambda x: x.year < 2017\n",
    "test_ind = df['Date'].apply(gTest)\n",
    "train_ind = df['Date'].apply(gTrain)\n",
    "usedColumns=['Date', 'Best of', 'Location', 'Tournament', 'Series', 'Court','Surface', 'Round', 'Comment', 'Player1', 'Player2', 'target', 'Year','diffWins','RankDiff', 'PointsDiff']"
   ]
  },
  {
   "cell_type": "code",
   "execution_count": 132,
   "metadata": {},
   "outputs": [],
   "source": [
    "#store the training and the test set\n",
    "data_train = df.loc[train_ind, usedColumns].copy()\n",
    "data_test = df.loc[test_ind, usedColumns].copy()"
   ]
  },
  {
   "cell_type": "code",
   "execution_count": 133,
   "metadata": {},
   "outputs": [],
   "source": [
    "#we delete the variable Date cause we already have the variable Year and also the predictions will by year\n",
    "data_train=data_train.drop(columns=[\"Date\"])\n",
    "data_test=data_test.drop(columns=[\"Date\"])"
   ]
  },
  {
   "cell_type": "code",
   "execution_count": 134,
   "metadata": {},
   "outputs": [],
   "source": [
    "#we split the data into training and testing sets\n",
    "Y_train=data_train['target']\n",
    "Y_test=data_test[\"target\"]\n",
    "X_train=data_train.drop(columns=[\"target\"])\n",
    "X_test=data_test.drop(columns=[\"target\"])"
   ]
  },
  {
   "cell_type": "markdown",
   "metadata": {},
   "source": [
    "Now  We will separate categorical and numerical variables using their data types to identify them, the type object corresponds to categorical columns (strings). We make use of make_column_selector helper to select the corresponding columns. after that we will apply some preprocessing steps on numerical and categorical data using ColumnTransformer"
   ]
  },
  {
   "cell_type": "code",
   "execution_count": 135,
   "metadata": {},
   "outputs": [],
   "source": [
    "from sklearn.compose import make_column_selector as selector\n",
    "\n",
    "numerical_columns_selector = selector(dtype_exclude=object)\n",
    "categorical_columns_selector = selector(dtype_include=object)\n",
    "\n",
    "numerical_columns = numerical_columns_selector(X_train)\n",
    "categorical_columns = categorical_columns_selector(X_train)"
   ]
  },
  {
   "cell_type": "markdown",
   "metadata": {},
   "source": [
    "Now let's create the preprocessors for the numerical and categorical parts.\n",
    "\n",
    "-one-hot encoding will be applied to categorical columns. Besides, we use handle_unknown=\"ignore\" to solve the potential issues due to rare categories.\n",
    "-numerical scaling numerical features which will be standardized."
   ]
  },
  {
   "cell_type": "code",
   "execution_count": 124,
   "metadata": {},
   "outputs": [],
   "source": [
    "from sklearn.preprocessing import OneHotEncoder, StandardScaler\n",
    "\n",
    "categorical_preprocessor = OneHotEncoder(handle_unknown=\"ignore\")\n",
    "numerical_preprocessor = StandardScaler()"
   ]
  },
  {
   "cell_type": "markdown",
   "metadata": {},
   "source": [
    "Now, we create the transformer and associate each of these preprocessors with their respective columns."
   ]
  },
  {
   "cell_type": "code",
   "execution_count": 125,
   "metadata": {},
   "outputs": [],
   "source": [
    "from sklearn.compose import ColumnTransformer\n",
    "\n",
    "preprocessor = ColumnTransformer([\n",
    "    ('one-hot-encoder', categorical_preprocessor, categorical_columns),\n",
    "    ('standard_scaler', numerical_preprocessor, numerical_columns)])"
   ]
  },
  {
   "cell_type": "markdown",
   "metadata": {},
   "source": [
    "### Logistic Regression"
   ]
  },
  {
   "cell_type": "markdown",
   "metadata": {},
   "source": [
    "We build a pipline that contain the preprocessor and the logistic model as we can see in the next cell"
   ]
  },
  {
   "cell_type": "code",
   "execution_count": 167,
   "metadata": {},
   "outputs": [],
   "source": [
    "from sklearn.linear_model import LogisticRegression\n",
    "from sklearn.pipeline import make_pipeline\n",
    "\n",
    "model = make_pipeline(preprocessor, LogisticRegression(C=1, penalty='l1', solver='liblinear'))"
   ]
  },
  {
   "cell_type": "code",
   "execution_count": 168,
   "metadata": {},
   "outputs": [
    {
     "data": {
      "text/html": [
       "<style>#sk-0dd0a611-dd9b-4eda-9702-770ac9470c29 {color: black;background-color: white;}#sk-0dd0a611-dd9b-4eda-9702-770ac9470c29 pre{padding: 0;}#sk-0dd0a611-dd9b-4eda-9702-770ac9470c29 div.sk-toggleable {background-color: white;}#sk-0dd0a611-dd9b-4eda-9702-770ac9470c29 label.sk-toggleable__label {cursor: pointer;display: block;width: 100%;margin-bottom: 0;padding: 0.3em;box-sizing: border-box;text-align: center;}#sk-0dd0a611-dd9b-4eda-9702-770ac9470c29 label.sk-toggleable__label-arrow:before {content: \"▸\";float: left;margin-right: 0.25em;color: #696969;}#sk-0dd0a611-dd9b-4eda-9702-770ac9470c29 label.sk-toggleable__label-arrow:hover:before {color: black;}#sk-0dd0a611-dd9b-4eda-9702-770ac9470c29 div.sk-estimator:hover label.sk-toggleable__label-arrow:before {color: black;}#sk-0dd0a611-dd9b-4eda-9702-770ac9470c29 div.sk-toggleable__content {max-height: 0;max-width: 0;overflow: hidden;text-align: left;background-color: #f0f8ff;}#sk-0dd0a611-dd9b-4eda-9702-770ac9470c29 div.sk-toggleable__content pre {margin: 0.2em;color: black;border-radius: 0.25em;background-color: #f0f8ff;}#sk-0dd0a611-dd9b-4eda-9702-770ac9470c29 input.sk-toggleable__control:checked~div.sk-toggleable__content {max-height: 200px;max-width: 100%;overflow: auto;}#sk-0dd0a611-dd9b-4eda-9702-770ac9470c29 input.sk-toggleable__control:checked~label.sk-toggleable__label-arrow:before {content: \"▾\";}#sk-0dd0a611-dd9b-4eda-9702-770ac9470c29 div.sk-estimator input.sk-toggleable__control:checked~label.sk-toggleable__label {background-color: #d4ebff;}#sk-0dd0a611-dd9b-4eda-9702-770ac9470c29 div.sk-label input.sk-toggleable__control:checked~label.sk-toggleable__label {background-color: #d4ebff;}#sk-0dd0a611-dd9b-4eda-9702-770ac9470c29 input.sk-hidden--visually {border: 0;clip: rect(1px 1px 1px 1px);clip: rect(1px, 1px, 1px, 1px);height: 1px;margin: -1px;overflow: hidden;padding: 0;position: absolute;width: 1px;}#sk-0dd0a611-dd9b-4eda-9702-770ac9470c29 div.sk-estimator {font-family: monospace;background-color: #f0f8ff;border: 1px dotted black;border-radius: 0.25em;box-sizing: border-box;margin-bottom: 0.5em;}#sk-0dd0a611-dd9b-4eda-9702-770ac9470c29 div.sk-estimator:hover {background-color: #d4ebff;}#sk-0dd0a611-dd9b-4eda-9702-770ac9470c29 div.sk-parallel-item::after {content: \"\";width: 100%;border-bottom: 1px solid gray;flex-grow: 1;}#sk-0dd0a611-dd9b-4eda-9702-770ac9470c29 div.sk-label:hover label.sk-toggleable__label {background-color: #d4ebff;}#sk-0dd0a611-dd9b-4eda-9702-770ac9470c29 div.sk-serial::before {content: \"\";position: absolute;border-left: 1px solid gray;box-sizing: border-box;top: 2em;bottom: 0;left: 50%;}#sk-0dd0a611-dd9b-4eda-9702-770ac9470c29 div.sk-serial {display: flex;flex-direction: column;align-items: center;background-color: white;padding-right: 0.2em;padding-left: 0.2em;}#sk-0dd0a611-dd9b-4eda-9702-770ac9470c29 div.sk-item {z-index: 1;}#sk-0dd0a611-dd9b-4eda-9702-770ac9470c29 div.sk-parallel {display: flex;align-items: stretch;justify-content: center;background-color: white;}#sk-0dd0a611-dd9b-4eda-9702-770ac9470c29 div.sk-parallel::before {content: \"\";position: absolute;border-left: 1px solid gray;box-sizing: border-box;top: 2em;bottom: 0;left: 50%;}#sk-0dd0a611-dd9b-4eda-9702-770ac9470c29 div.sk-parallel-item {display: flex;flex-direction: column;position: relative;background-color: white;}#sk-0dd0a611-dd9b-4eda-9702-770ac9470c29 div.sk-parallel-item:first-child::after {align-self: flex-end;width: 50%;}#sk-0dd0a611-dd9b-4eda-9702-770ac9470c29 div.sk-parallel-item:last-child::after {align-self: flex-start;width: 50%;}#sk-0dd0a611-dd9b-4eda-9702-770ac9470c29 div.sk-parallel-item:only-child::after {width: 0;}#sk-0dd0a611-dd9b-4eda-9702-770ac9470c29 div.sk-dashed-wrapped {border: 1px dashed gray;margin: 0 0.4em 0.5em 0.4em;box-sizing: border-box;padding-bottom: 0.4em;background-color: white;position: relative;}#sk-0dd0a611-dd9b-4eda-9702-770ac9470c29 div.sk-label label {font-family: monospace;font-weight: bold;background-color: white;display: inline-block;line-height: 1.2em;}#sk-0dd0a611-dd9b-4eda-9702-770ac9470c29 div.sk-label-container {position: relative;z-index: 2;text-align: center;}#sk-0dd0a611-dd9b-4eda-9702-770ac9470c29 div.sk-container {/* jupyter's `normalize.less` sets `[hidden] { display: none; }` but bootstrap.min.css set `[hidden] { display: none !important; }` so we also need the `!important` here to be able to override the default hidden behavior on the sphinx rendered scikit-learn.org. See: https://github.com/scikit-learn/scikit-learn/issues/21755 */display: inline-block !important;position: relative;}#sk-0dd0a611-dd9b-4eda-9702-770ac9470c29 div.sk-text-repr-fallback {display: none;}</style><div id=\"sk-0dd0a611-dd9b-4eda-9702-770ac9470c29\" class=\"sk-top-container\"><div class=\"sk-text-repr-fallback\"><pre>Pipeline(steps=[(&#x27;columntransformer&#x27;,\n",
       "                 ColumnTransformer(transformers=[(&#x27;one-hot-encoder&#x27;,\n",
       "                                                  OneHotEncoder(handle_unknown=&#x27;ignore&#x27;),\n",
       "                                                  [&#x27;Location&#x27;, &#x27;Tournament&#x27;,\n",
       "                                                   &#x27;Series&#x27;, &#x27;Court&#x27;, &#x27;Surface&#x27;,\n",
       "                                                   &#x27;Round&#x27;, &#x27;Comment&#x27;,\n",
       "                                                   &#x27;Player1&#x27;, &#x27;Player2&#x27;]),\n",
       "                                                 (&#x27;standard_scaler&#x27;,\n",
       "                                                  StandardScaler(),\n",
       "                                                  [&#x27;Best of&#x27;, &#x27;Year&#x27;,\n",
       "                                                   &#x27;diffWins&#x27;, &#x27;RankDiff&#x27;,\n",
       "                                                   &#x27;PointsDiff&#x27;])])),\n",
       "                (&#x27;logisticregression&#x27;,\n",
       "                 LogisticRegression(C=1, penalty=&#x27;l1&#x27;, solver=&#x27;liblinear&#x27;))])</pre><b>Please rerun this cell to show the HTML repr or trust the notebook.</b></div><div class=\"sk-container\" hidden><div class=\"sk-item sk-dashed-wrapped\"><div class=\"sk-label-container\"><div class=\"sk-label sk-toggleable\"><input class=\"sk-toggleable__control sk-hidden--visually\" id=\"b2725674-3693-4a94-a2d5-491d2057e516\" type=\"checkbox\" ><label for=\"b2725674-3693-4a94-a2d5-491d2057e516\" class=\"sk-toggleable__label sk-toggleable__label-arrow\">Pipeline</label><div class=\"sk-toggleable__content\"><pre>Pipeline(steps=[(&#x27;columntransformer&#x27;,\n",
       "                 ColumnTransformer(transformers=[(&#x27;one-hot-encoder&#x27;,\n",
       "                                                  OneHotEncoder(handle_unknown=&#x27;ignore&#x27;),\n",
       "                                                  [&#x27;Location&#x27;, &#x27;Tournament&#x27;,\n",
       "                                                   &#x27;Series&#x27;, &#x27;Court&#x27;, &#x27;Surface&#x27;,\n",
       "                                                   &#x27;Round&#x27;, &#x27;Comment&#x27;,\n",
       "                                                   &#x27;Player1&#x27;, &#x27;Player2&#x27;]),\n",
       "                                                 (&#x27;standard_scaler&#x27;,\n",
       "                                                  StandardScaler(),\n",
       "                                                  [&#x27;Best of&#x27;, &#x27;Year&#x27;,\n",
       "                                                   &#x27;diffWins&#x27;, &#x27;RankDiff&#x27;,\n",
       "                                                   &#x27;PointsDiff&#x27;])])),\n",
       "                (&#x27;logisticregression&#x27;,\n",
       "                 LogisticRegression(C=1, penalty=&#x27;l1&#x27;, solver=&#x27;liblinear&#x27;))])</pre></div></div></div><div class=\"sk-serial\"><div class=\"sk-item sk-dashed-wrapped\"><div class=\"sk-label-container\"><div class=\"sk-label sk-toggleable\"><input class=\"sk-toggleable__control sk-hidden--visually\" id=\"d48bed06-41ea-4301-a179-05fd20b0eb1e\" type=\"checkbox\" ><label for=\"d48bed06-41ea-4301-a179-05fd20b0eb1e\" class=\"sk-toggleable__label sk-toggleable__label-arrow\">columntransformer: ColumnTransformer</label><div class=\"sk-toggleable__content\"><pre>ColumnTransformer(transformers=[(&#x27;one-hot-encoder&#x27;,\n",
       "                                 OneHotEncoder(handle_unknown=&#x27;ignore&#x27;),\n",
       "                                 [&#x27;Location&#x27;, &#x27;Tournament&#x27;, &#x27;Series&#x27;, &#x27;Court&#x27;,\n",
       "                                  &#x27;Surface&#x27;, &#x27;Round&#x27;, &#x27;Comment&#x27;, &#x27;Player1&#x27;,\n",
       "                                  &#x27;Player2&#x27;]),\n",
       "                                (&#x27;standard_scaler&#x27;, StandardScaler(),\n",
       "                                 [&#x27;Best of&#x27;, &#x27;Year&#x27;, &#x27;diffWins&#x27;, &#x27;RankDiff&#x27;,\n",
       "                                  &#x27;PointsDiff&#x27;])])</pre></div></div></div><div class=\"sk-parallel\"><div class=\"sk-parallel-item\"><div class=\"sk-item\"><div class=\"sk-label-container\"><div class=\"sk-label sk-toggleable\"><input class=\"sk-toggleable__control sk-hidden--visually\" id=\"ffc7b4cf-66fa-42d2-9b77-dfa385375adc\" type=\"checkbox\" ><label for=\"ffc7b4cf-66fa-42d2-9b77-dfa385375adc\" class=\"sk-toggleable__label sk-toggleable__label-arrow\">one-hot-encoder</label><div class=\"sk-toggleable__content\"><pre>[&#x27;Location&#x27;, &#x27;Tournament&#x27;, &#x27;Series&#x27;, &#x27;Court&#x27;, &#x27;Surface&#x27;, &#x27;Round&#x27;, &#x27;Comment&#x27;, &#x27;Player1&#x27;, &#x27;Player2&#x27;]</pre></div></div></div><div class=\"sk-serial\"><div class=\"sk-item\"><div class=\"sk-estimator sk-toggleable\"><input class=\"sk-toggleable__control sk-hidden--visually\" id=\"87447dbf-0cad-4fb2-b41a-4e5e7604c338\" type=\"checkbox\" ><label for=\"87447dbf-0cad-4fb2-b41a-4e5e7604c338\" class=\"sk-toggleable__label sk-toggleable__label-arrow\">OneHotEncoder</label><div class=\"sk-toggleable__content\"><pre>OneHotEncoder(handle_unknown=&#x27;ignore&#x27;)</pre></div></div></div></div></div></div><div class=\"sk-parallel-item\"><div class=\"sk-item\"><div class=\"sk-label-container\"><div class=\"sk-label sk-toggleable\"><input class=\"sk-toggleable__control sk-hidden--visually\" id=\"3dee77e0-b878-4298-9fa7-6b0effdc96e4\" type=\"checkbox\" ><label for=\"3dee77e0-b878-4298-9fa7-6b0effdc96e4\" class=\"sk-toggleable__label sk-toggleable__label-arrow\">standard_scaler</label><div class=\"sk-toggleable__content\"><pre>[&#x27;Best of&#x27;, &#x27;Year&#x27;, &#x27;diffWins&#x27;, &#x27;RankDiff&#x27;, &#x27;PointsDiff&#x27;]</pre></div></div></div><div class=\"sk-serial\"><div class=\"sk-item\"><div class=\"sk-estimator sk-toggleable\"><input class=\"sk-toggleable__control sk-hidden--visually\" id=\"94ba07bd-a539-4456-b2a7-36a65c58eef0\" type=\"checkbox\" ><label for=\"94ba07bd-a539-4456-b2a7-36a65c58eef0\" class=\"sk-toggleable__label sk-toggleable__label-arrow\">StandardScaler</label><div class=\"sk-toggleable__content\"><pre>StandardScaler()</pre></div></div></div></div></div></div></div></div><div class=\"sk-item\"><div class=\"sk-estimator sk-toggleable\"><input class=\"sk-toggleable__control sk-hidden--visually\" id=\"03f12d47-c70a-4081-a922-97688e306432\" type=\"checkbox\" ><label for=\"03f12d47-c70a-4081-a922-97688e306432\" class=\"sk-toggleable__label sk-toggleable__label-arrow\">LogisticRegression</label><div class=\"sk-toggleable__content\"><pre>LogisticRegression(C=1, penalty=&#x27;l1&#x27;, solver=&#x27;liblinear&#x27;)</pre></div></div></div></div></div></div></div>"
      ],
      "text/plain": [
       "Pipeline(steps=[('columntransformer',\n",
       "                 ColumnTransformer(transformers=[('one-hot-encoder',\n",
       "                                                  OneHotEncoder(handle_unknown='ignore'),\n",
       "                                                  ['Location', 'Tournament',\n",
       "                                                   'Series', 'Court', 'Surface',\n",
       "                                                   'Round', 'Comment',\n",
       "                                                   'Player1', 'Player2']),\n",
       "                                                 ('standard_scaler',\n",
       "                                                  StandardScaler(),\n",
       "                                                  ['Best of', 'Year',\n",
       "                                                   'diffWins', 'RankDiff',\n",
       "                                                   'PointsDiff'])])),\n",
       "                ('logisticregression',\n",
       "                 LogisticRegression(C=1, penalty='l1', solver='liblinear'))])"
      ]
     },
     "execution_count": 168,
     "metadata": {},
     "output_type": "execute_result"
    }
   ],
   "source": [
    "from sklearn import set_config\n",
    "set_config(display='diagram')\n",
    "model"
   ]
  },
  {
   "cell_type": "code",
   "execution_count": 169,
   "metadata": {},
   "outputs": [],
   "source": [
    "_ = model.fit(X_train, Y_train)"
   ]
  },
  {
   "cell_type": "code",
   "execution_count": 170,
   "metadata": {},
   "outputs": [
    {
     "data": {
      "text/plain": [
       "0.6478178368121442"
      ]
     },
     "execution_count": 170,
     "metadata": {},
     "output_type": "execute_result"
    }
   ],
   "source": [
    "model.score(X_test, Y_test)"
   ]
  },
  {
   "cell_type": "code",
   "execution_count": 183,
   "metadata": {},
   "outputs": [
    {
     "name": "stdout",
     "output_type": "stream",
     "text": [
      "Accuracy score via cross-validation:\n",
      "0.719 ± 0.073\n"
     ]
    }
   ],
   "source": [
    "# the generalization performance of the model via cross-validation.\n",
    "from sklearn.model_selection import cross_validate\n",
    "\n",
    "cv_results = cross_validate(model, X_train, Y_train)\n",
    "scores = cv_results[\"test_score\"]\n",
    "print(f\"Accuracy score via cross-validation:\\n\"\n",
    "      f\"{scores.mean():.3f} ± {scores.std():.3f}\")"
   ]
  },
  {
   "cell_type": "markdown",
   "metadata": {},
   "source": [
    "### Hyperparametres tuning of LogisticRegresion by RandomizedSearch"
   ]
  },
  {
   "cell_type": "code",
   "execution_count": 184,
   "metadata": {},
   "outputs": [],
   "source": [
    "\n",
    "from sklearn.model_selection import RandomizedSearchCV\n",
    "max_iter = range(100, 600)\n",
    "solver = ['lbfgs', 'newton-cg', 'liblinear']\n",
    "warm_start = [True, False]\n",
    "C = np.arange(0, 2, 0.01)\n",
    "random_grid ={\n",
    "    'logisticregression__max_iter' : max_iter,\n",
    "    'logisticregression__warm_start' : warm_start,\n",
    "    'logisticregression__solver' : solver,\n",
    "    'logisticregression__C' : C,\n",
    "}"
   ]
  },
  {
   "cell_type": "code",
   "execution_count": 185,
   "metadata": {},
   "outputs": [
    {
     "name": "stdout",
     "output_type": "stream",
     "text": [
      "Fitting 5 folds for each of 100 candidates, totalling 500 fits\n"
     ]
    },
    {
     "data": {
      "text/html": [
       "<style>#sk-a810c567-69ec-4ead-b1d8-53414cfa1213 {color: black;background-color: white;}#sk-a810c567-69ec-4ead-b1d8-53414cfa1213 pre{padding: 0;}#sk-a810c567-69ec-4ead-b1d8-53414cfa1213 div.sk-toggleable {background-color: white;}#sk-a810c567-69ec-4ead-b1d8-53414cfa1213 label.sk-toggleable__label {cursor: pointer;display: block;width: 100%;margin-bottom: 0;padding: 0.3em;box-sizing: border-box;text-align: center;}#sk-a810c567-69ec-4ead-b1d8-53414cfa1213 label.sk-toggleable__label-arrow:before {content: \"▸\";float: left;margin-right: 0.25em;color: #696969;}#sk-a810c567-69ec-4ead-b1d8-53414cfa1213 label.sk-toggleable__label-arrow:hover:before {color: black;}#sk-a810c567-69ec-4ead-b1d8-53414cfa1213 div.sk-estimator:hover label.sk-toggleable__label-arrow:before {color: black;}#sk-a810c567-69ec-4ead-b1d8-53414cfa1213 div.sk-toggleable__content {max-height: 0;max-width: 0;overflow: hidden;text-align: left;background-color: #f0f8ff;}#sk-a810c567-69ec-4ead-b1d8-53414cfa1213 div.sk-toggleable__content pre {margin: 0.2em;color: black;border-radius: 0.25em;background-color: #f0f8ff;}#sk-a810c567-69ec-4ead-b1d8-53414cfa1213 input.sk-toggleable__control:checked~div.sk-toggleable__content {max-height: 200px;max-width: 100%;overflow: auto;}#sk-a810c567-69ec-4ead-b1d8-53414cfa1213 input.sk-toggleable__control:checked~label.sk-toggleable__label-arrow:before {content: \"▾\";}#sk-a810c567-69ec-4ead-b1d8-53414cfa1213 div.sk-estimator input.sk-toggleable__control:checked~label.sk-toggleable__label {background-color: #d4ebff;}#sk-a810c567-69ec-4ead-b1d8-53414cfa1213 div.sk-label input.sk-toggleable__control:checked~label.sk-toggleable__label {background-color: #d4ebff;}#sk-a810c567-69ec-4ead-b1d8-53414cfa1213 input.sk-hidden--visually {border: 0;clip: rect(1px 1px 1px 1px);clip: rect(1px, 1px, 1px, 1px);height: 1px;margin: -1px;overflow: hidden;padding: 0;position: absolute;width: 1px;}#sk-a810c567-69ec-4ead-b1d8-53414cfa1213 div.sk-estimator {font-family: monospace;background-color: #f0f8ff;border: 1px dotted black;border-radius: 0.25em;box-sizing: border-box;margin-bottom: 0.5em;}#sk-a810c567-69ec-4ead-b1d8-53414cfa1213 div.sk-estimator:hover {background-color: #d4ebff;}#sk-a810c567-69ec-4ead-b1d8-53414cfa1213 div.sk-parallel-item::after {content: \"\";width: 100%;border-bottom: 1px solid gray;flex-grow: 1;}#sk-a810c567-69ec-4ead-b1d8-53414cfa1213 div.sk-label:hover label.sk-toggleable__label {background-color: #d4ebff;}#sk-a810c567-69ec-4ead-b1d8-53414cfa1213 div.sk-serial::before {content: \"\";position: absolute;border-left: 1px solid gray;box-sizing: border-box;top: 2em;bottom: 0;left: 50%;}#sk-a810c567-69ec-4ead-b1d8-53414cfa1213 div.sk-serial {display: flex;flex-direction: column;align-items: center;background-color: white;padding-right: 0.2em;padding-left: 0.2em;}#sk-a810c567-69ec-4ead-b1d8-53414cfa1213 div.sk-item {z-index: 1;}#sk-a810c567-69ec-4ead-b1d8-53414cfa1213 div.sk-parallel {display: flex;align-items: stretch;justify-content: center;background-color: white;}#sk-a810c567-69ec-4ead-b1d8-53414cfa1213 div.sk-parallel::before {content: \"\";position: absolute;border-left: 1px solid gray;box-sizing: border-box;top: 2em;bottom: 0;left: 50%;}#sk-a810c567-69ec-4ead-b1d8-53414cfa1213 div.sk-parallel-item {display: flex;flex-direction: column;position: relative;background-color: white;}#sk-a810c567-69ec-4ead-b1d8-53414cfa1213 div.sk-parallel-item:first-child::after {align-self: flex-end;width: 50%;}#sk-a810c567-69ec-4ead-b1d8-53414cfa1213 div.sk-parallel-item:last-child::after {align-self: flex-start;width: 50%;}#sk-a810c567-69ec-4ead-b1d8-53414cfa1213 div.sk-parallel-item:only-child::after {width: 0;}#sk-a810c567-69ec-4ead-b1d8-53414cfa1213 div.sk-dashed-wrapped {border: 1px dashed gray;margin: 0 0.4em 0.5em 0.4em;box-sizing: border-box;padding-bottom: 0.4em;background-color: white;position: relative;}#sk-a810c567-69ec-4ead-b1d8-53414cfa1213 div.sk-label label {font-family: monospace;font-weight: bold;background-color: white;display: inline-block;line-height: 1.2em;}#sk-a810c567-69ec-4ead-b1d8-53414cfa1213 div.sk-label-container {position: relative;z-index: 2;text-align: center;}#sk-a810c567-69ec-4ead-b1d8-53414cfa1213 div.sk-container {/* jupyter's `normalize.less` sets `[hidden] { display: none; }` but bootstrap.min.css set `[hidden] { display: none !important; }` so we also need the `!important` here to be able to override the default hidden behavior on the sphinx rendered scikit-learn.org. See: https://github.com/scikit-learn/scikit-learn/issues/21755 */display: inline-block !important;position: relative;}#sk-a810c567-69ec-4ead-b1d8-53414cfa1213 div.sk-text-repr-fallback {display: none;}</style><div id=\"sk-a810c567-69ec-4ead-b1d8-53414cfa1213\" class=\"sk-top-container\"><div class=\"sk-text-repr-fallback\"><pre>RandomizedSearchCV(estimator=Pipeline(steps=[(&#x27;columntransformer&#x27;,\n",
       "                                              ColumnTransformer(transformers=[(&#x27;one-hot-encoder&#x27;,\n",
       "                                                                               OneHotEncoder(handle_unknown=&#x27;ignore&#x27;),\n",
       "                                                                               [&#x27;Location&#x27;,\n",
       "                                                                                &#x27;Tournament&#x27;,\n",
       "                                                                                &#x27;Series&#x27;,\n",
       "                                                                                &#x27;Court&#x27;,\n",
       "                                                                                &#x27;Surface&#x27;,\n",
       "                                                                                &#x27;Round&#x27;,\n",
       "                                                                                &#x27;Comment&#x27;,\n",
       "                                                                                &#x27;Player1&#x27;,\n",
       "                                                                                &#x27;Player2&#x27;]),\n",
       "                                                                              (&#x27;standard_scaler&#x27;,\n",
       "                                                                               StandardScaler(),\n",
       "                                                                               [&#x27;Best &#x27;\n",
       "                                                                                &#x27;of&#x27;,\n",
       "                                                                                &#x27;Year&#x27;,\n",
       "                                                                                &#x27;diffWins&#x27;,\n",
       "                                                                                &#x27;RankDiff&#x27;,\n",
       "                                                                                &#x27;PointsDiff&#x27;])])),\n",
       "                                             (&#x27;logis...\n",
       "       1.65, 1.66, 1.67, 1.68, 1.69, 1.7 , 1.71, 1.72, 1.73, 1.74, 1.75,\n",
       "       1.76, 1.77, 1.78, 1.79, 1.8 , 1.81, 1.82, 1.83, 1.84, 1.85, 1.86,\n",
       "       1.87, 1.88, 1.89, 1.9 , 1.91, 1.92, 1.93, 1.94, 1.95, 1.96, 1.97,\n",
       "       1.98, 1.99]),\n",
       "                                        &#x27;logisticregression__max_iter&#x27;: range(100, 600),\n",
       "                                        &#x27;logisticregression__solver&#x27;: [&#x27;lbfgs&#x27;,\n",
       "                                                                       &#x27;newton-cg&#x27;,\n",
       "                                                                       &#x27;liblinear&#x27;],\n",
       "                                        &#x27;logisticregression__warm_start&#x27;: [True,\n",
       "                                                                           False]},\n",
       "                   random_state=1, scoring=&#x27;accuracy&#x27;, verbose=1)</pre><b>Please rerun this cell to show the HTML repr or trust the notebook.</b></div><div class=\"sk-container\" hidden><div class=\"sk-item sk-dashed-wrapped\"><div class=\"sk-label-container\"><div class=\"sk-label sk-toggleable\"><input class=\"sk-toggleable__control sk-hidden--visually\" id=\"fd2d3ac8-f259-4099-8e56-c2b5b777f114\" type=\"checkbox\" ><label for=\"fd2d3ac8-f259-4099-8e56-c2b5b777f114\" class=\"sk-toggleable__label sk-toggleable__label-arrow\">RandomizedSearchCV</label><div class=\"sk-toggleable__content\"><pre>RandomizedSearchCV(estimator=Pipeline(steps=[(&#x27;columntransformer&#x27;,\n",
       "                                              ColumnTransformer(transformers=[(&#x27;one-hot-encoder&#x27;,\n",
       "                                                                               OneHotEncoder(handle_unknown=&#x27;ignore&#x27;),\n",
       "                                                                               [&#x27;Location&#x27;,\n",
       "                                                                                &#x27;Tournament&#x27;,\n",
       "                                                                                &#x27;Series&#x27;,\n",
       "                                                                                &#x27;Court&#x27;,\n",
       "                                                                                &#x27;Surface&#x27;,\n",
       "                                                                                &#x27;Round&#x27;,\n",
       "                                                                                &#x27;Comment&#x27;,\n",
       "                                                                                &#x27;Player1&#x27;,\n",
       "                                                                                &#x27;Player2&#x27;]),\n",
       "                                                                              (&#x27;standard_scaler&#x27;,\n",
       "                                                                               StandardScaler(),\n",
       "                                                                               [&#x27;Best &#x27;\n",
       "                                                                                &#x27;of&#x27;,\n",
       "                                                                                &#x27;Year&#x27;,\n",
       "                                                                                &#x27;diffWins&#x27;,\n",
       "                                                                                &#x27;RankDiff&#x27;,\n",
       "                                                                                &#x27;PointsDiff&#x27;])])),\n",
       "                                             (&#x27;logis...\n",
       "       1.65, 1.66, 1.67, 1.68, 1.69, 1.7 , 1.71, 1.72, 1.73, 1.74, 1.75,\n",
       "       1.76, 1.77, 1.78, 1.79, 1.8 , 1.81, 1.82, 1.83, 1.84, 1.85, 1.86,\n",
       "       1.87, 1.88, 1.89, 1.9 , 1.91, 1.92, 1.93, 1.94, 1.95, 1.96, 1.97,\n",
       "       1.98, 1.99]),\n",
       "                                        &#x27;logisticregression__max_iter&#x27;: range(100, 600),\n",
       "                                        &#x27;logisticregression__solver&#x27;: [&#x27;lbfgs&#x27;,\n",
       "                                                                       &#x27;newton-cg&#x27;,\n",
       "                                                                       &#x27;liblinear&#x27;],\n",
       "                                        &#x27;logisticregression__warm_start&#x27;: [True,\n",
       "                                                                           False]},\n",
       "                   random_state=1, scoring=&#x27;accuracy&#x27;, verbose=1)</pre></div></div></div><div class=\"sk-parallel\"><div class=\"sk-parallel-item\"><div class=\"sk-item\"><div class=\"sk-serial\"><div class=\"sk-item\"><div class=\"sk-serial\"><div class=\"sk-item sk-dashed-wrapped\"><div class=\"sk-label-container\"><div class=\"sk-label sk-toggleable\"><input class=\"sk-toggleable__control sk-hidden--visually\" id=\"165d634f-9dc5-4b81-ba19-a28ce1739645\" type=\"checkbox\" ><label for=\"165d634f-9dc5-4b81-ba19-a28ce1739645\" class=\"sk-toggleable__label sk-toggleable__label-arrow\">columntransformer: ColumnTransformer</label><div class=\"sk-toggleable__content\"><pre>ColumnTransformer(transformers=[(&#x27;one-hot-encoder&#x27;,\n",
       "                                 OneHotEncoder(handle_unknown=&#x27;ignore&#x27;),\n",
       "                                 [&#x27;Location&#x27;, &#x27;Tournament&#x27;, &#x27;Series&#x27;, &#x27;Court&#x27;,\n",
       "                                  &#x27;Surface&#x27;, &#x27;Round&#x27;, &#x27;Comment&#x27;, &#x27;Player1&#x27;,\n",
       "                                  &#x27;Player2&#x27;]),\n",
       "                                (&#x27;standard_scaler&#x27;, StandardScaler(),\n",
       "                                 [&#x27;Best of&#x27;, &#x27;Year&#x27;, &#x27;diffWins&#x27;, &#x27;RankDiff&#x27;,\n",
       "                                  &#x27;PointsDiff&#x27;])])</pre></div></div></div><div class=\"sk-parallel\"><div class=\"sk-parallel-item\"><div class=\"sk-item\"><div class=\"sk-label-container\"><div class=\"sk-label sk-toggleable\"><input class=\"sk-toggleable__control sk-hidden--visually\" id=\"d3b5f6db-233b-468d-95f8-3dc71a4e266e\" type=\"checkbox\" ><label for=\"d3b5f6db-233b-468d-95f8-3dc71a4e266e\" class=\"sk-toggleable__label sk-toggleable__label-arrow\">one-hot-encoder</label><div class=\"sk-toggleable__content\"><pre>[&#x27;Location&#x27;, &#x27;Tournament&#x27;, &#x27;Series&#x27;, &#x27;Court&#x27;, &#x27;Surface&#x27;, &#x27;Round&#x27;, &#x27;Comment&#x27;, &#x27;Player1&#x27;, &#x27;Player2&#x27;]</pre></div></div></div><div class=\"sk-serial\"><div class=\"sk-item\"><div class=\"sk-estimator sk-toggleable\"><input class=\"sk-toggleable__control sk-hidden--visually\" id=\"dbb9cca6-9c02-4acf-a58a-d88c7678e5f9\" type=\"checkbox\" ><label for=\"dbb9cca6-9c02-4acf-a58a-d88c7678e5f9\" class=\"sk-toggleable__label sk-toggleable__label-arrow\">OneHotEncoder</label><div class=\"sk-toggleable__content\"><pre>OneHotEncoder(handle_unknown=&#x27;ignore&#x27;)</pre></div></div></div></div></div></div><div class=\"sk-parallel-item\"><div class=\"sk-item\"><div class=\"sk-label-container\"><div class=\"sk-label sk-toggleable\"><input class=\"sk-toggleable__control sk-hidden--visually\" id=\"ff5659e3-47aa-4ca0-bafa-8adf389c8e56\" type=\"checkbox\" ><label for=\"ff5659e3-47aa-4ca0-bafa-8adf389c8e56\" class=\"sk-toggleable__label sk-toggleable__label-arrow\">standard_scaler</label><div class=\"sk-toggleable__content\"><pre>[&#x27;Best of&#x27;, &#x27;Year&#x27;, &#x27;diffWins&#x27;, &#x27;RankDiff&#x27;, &#x27;PointsDiff&#x27;]</pre></div></div></div><div class=\"sk-serial\"><div class=\"sk-item\"><div class=\"sk-estimator sk-toggleable\"><input class=\"sk-toggleable__control sk-hidden--visually\" id=\"62465c21-c349-465e-922e-e9e9e15f7203\" type=\"checkbox\" ><label for=\"62465c21-c349-465e-922e-e9e9e15f7203\" class=\"sk-toggleable__label sk-toggleable__label-arrow\">StandardScaler</label><div class=\"sk-toggleable__content\"><pre>StandardScaler()</pre></div></div></div></div></div></div></div></div><div class=\"sk-item\"><div class=\"sk-estimator sk-toggleable\"><input class=\"sk-toggleable__control sk-hidden--visually\" id=\"76e7beda-7a30-408e-8553-af4e42f3df14\" type=\"checkbox\" ><label for=\"76e7beda-7a30-408e-8553-af4e42f3df14\" class=\"sk-toggleable__label sk-toggleable__label-arrow\">LogisticRegression</label><div class=\"sk-toggleable__content\"><pre>LogisticRegression(C=1, penalty=&#x27;l1&#x27;, solver=&#x27;liblinear&#x27;)</pre></div></div></div></div></div></div></div></div></div></div></div></div>"
      ],
      "text/plain": [
       "RandomizedSearchCV(estimator=Pipeline(steps=[('columntransformer',\n",
       "                                              ColumnTransformer(transformers=[('one-hot-encoder',\n",
       "                                                                               OneHotEncoder(handle_unknown='ignore'),\n",
       "                                                                               ['Location',\n",
       "                                                                                'Tournament',\n",
       "                                                                                'Series',\n",
       "                                                                                'Court',\n",
       "                                                                                'Surface',\n",
       "                                                                                'Round',\n",
       "                                                                                'Comment',\n",
       "                                                                                'Player1',\n",
       "                                                                                'Player2']),\n",
       "                                                                              ('standard_scaler',\n",
       "                                                                               StandardScaler(),\n",
       "                                                                               ['Best '\n",
       "                                                                                'of',\n",
       "                                                                                'Year',\n",
       "                                                                                'diffWins',\n",
       "                                                                                'RankDiff',\n",
       "                                                                                'PointsDiff'])])),\n",
       "                                             ('logis...\n",
       "       1.65, 1.66, 1.67, 1.68, 1.69, 1.7 , 1.71, 1.72, 1.73, 1.74, 1.75,\n",
       "       1.76, 1.77, 1.78, 1.79, 1.8 , 1.81, 1.82, 1.83, 1.84, 1.85, 1.86,\n",
       "       1.87, 1.88, 1.89, 1.9 , 1.91, 1.92, 1.93, 1.94, 1.95, 1.96, 1.97,\n",
       "       1.98, 1.99]),\n",
       "                                        'logisticregression__max_iter': range(100, 600),\n",
       "                                        'logisticregression__solver': ['lbfgs',\n",
       "                                                                       'newton-cg',\n",
       "                                                                       'liblinear'],\n",
       "                                        'logisticregression__warm_start': [True,\n",
       "                                                                           False]},\n",
       "                   random_state=1, scoring='accuracy', verbose=1)"
      ]
     },
     "execution_count": 185,
     "metadata": {},
     "output_type": "execute_result"
    }
   ],
   "source": [
    "random_estimator = RandomizedSearchCV(estimator = model,\n",
    "                                   param_distributions = random_grid,\n",
    "                                   n_iter = 100,\n",
    "                                   scoring = 'accuracy',\n",
    "                                   n_jobs = -1,\n",
    "                                   verbose = 1, \n",
    "                                   random_state = 1,\n",
    "                                  )\n",
    "\n",
    "random_estimator.fit(X_train, Y_train)"
   ]
  },
  {
   "cell_type": "code",
   "execution_count": 190,
   "metadata": {},
   "outputs": [
    {
     "data": {
      "text/plain": [
       "{'logisticregression__warm_start': True,\n",
       " 'logisticregression__solver': 'liblinear',\n",
       " 'logisticregression__max_iter': 285,\n",
       " 'logisticregression__C': 0.09}"
      ]
     },
     "execution_count": 190,
     "metadata": {},
     "output_type": "execute_result"
    }
   ],
   "source": [
    "## those are the best parameters founded by the randomGridsearchCV\n",
    "random_estimator.best_params_"
   ]
  }
 ],
 "metadata": {
  "kernelspec": {
   "display_name": "Python 3 (ipykernel)",
   "language": "python",
   "name": "python3"
  },
  "language_info": {
   "codemirror_mode": {
    "name": "ipython",
    "version": 3
   },
   "file_extension": ".py",
   "mimetype": "text/x-python",
   "name": "python",
   "nbconvert_exporter": "python",
   "pygments_lexer": "ipython3",
   "version": "3.9.7"
  }
 },
 "nbformat": 4,
 "nbformat_minor": 2
}
